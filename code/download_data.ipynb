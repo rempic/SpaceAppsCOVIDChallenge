{
 "cells": [
  {
   "cell_type": "markdown",
   "metadata": {},
   "source": [
    "# Intro\n",
    "\n",
    "Each file contains daily data from approximately 15 orbits\n",
    "\n",
    "to dowload data\n",
    "https://disc.gsfc.nasa.gov/information/howto?title=How%20to%20Download%20Data%20Files%20from%20HTTPS%20Service%20with%20wget\n",
    "\n",
    "remipicoSfogliaella\n",
    "\n"
   ]
  },
  {
   "cell_type": "markdown",
   "metadata": {},
   "source": [
    "# data test"
   ]
  },
  {
   "cell_type": "code",
   "execution_count": 1,
   "metadata": {},
   "outputs": [
    {
     "name": "stdout",
     "output_type": "stream",
     "text": [
      "MERRA2_100.tavgM_2d_slv_Nx.198101.nc4\r\n",
      "MERRA2_100.tavgM_2d_slv_Nx.198101.nc4.xml\r\n",
      "MERRA2_100.tavgM_2d_slv_Nx.198102.nc4\r\n",
      "MERRA2_100.tavgM_2d_slv_Nx.198102.nc4.xml\r\n",
      "MERRA2_100.tavgM_2d_slv_Nx.198103.nc4\r\n",
      "MERRA2_100.tavgM_2d_slv_Nx.198103.nc4.xml\r\n",
      "MERRA2_100.tavgM_2d_slv_Nx.198104.nc4\r\n",
      "MERRA2_100.tavgM_2d_slv_Nx.198104.nc4.xml\r\n",
      "MERRA2_100.tavgM_2d_slv_Nx.198105.nc4\r\n",
      "MERRA2_100.tavgM_2d_slv_Nx.198105.nc4.xml\r\n",
      "MERRA2_100.tavgM_2d_slv_Nx.198106.nc4\r\n",
      "MERRA2_100.tavgM_2d_slv_Nx.198106.nc4.xml\r\n",
      "MERRA2_100.tavgM_2d_slv_Nx.198107.nc4\r\n",
      "MERRA2_100.tavgM_2d_slv_Nx.198107.nc4.xml\r\n",
      "MERRA2_100.tavgM_2d_slv_Nx.198108.nc4\r\n",
      "MERRA2_100.tavgM_2d_slv_Nx.198108.nc4.xml\r\n",
      "MERRA2_100.tavgM_2d_slv_Nx.198109.nc4\r\n",
      "MERRA2_100.tavgM_2d_slv_Nx.198109.nc4.xml\r\n",
      "MERRA2_100.tavgM_2d_slv_Nx.198110.nc4\r\n",
      "MERRA2_100.tavgM_2d_slv_Nx.198110.nc4.xml\r\n",
      "MERRA2_100.tavgM_2d_slv_Nx.198111.nc4\r\n",
      "MERRA2_100.tavgM_2d_slv_Nx.198111.nc4.xml\r\n",
      "MERRA2_100.tavgM_2d_slv_Nx.198112.nc4\r\n",
      "MERRA2_100.tavgM_2d_slv_Nx.198112.nc4.xml\r\n"
     ]
    }
   ],
   "source": [
    "#  example\n",
    "! curl -s \"https://goldsmr4.gesdisc.eosdis.nasa.gov/data/MERRA2_MONTHLY/M2TMNXSLV.5.12.4/1981/\" | grep MERRA2_100 | cut -f4 -d\\\" "
   ]
  },
  {
   "cell_type": "markdown",
   "metadata": {},
   "source": [
    "# dowload OMNO2\n",
    "https://acdisc.gesdisc.eosdis.nasa.gov/data/Aura_OMI_Level3/OMNO2d.003/2020/\n",
    "\n",
    "This is Level-3 daily global gridded (0.25x0.25 degree) Nitrogen Dioxide Product (OMNO2d). OMNO2d data product is a Level-3 Gridded Product where pixel level data of good quality are binned and \"averaged\" into 0.25x0.25 degree global grids. This product contains Total column NO2 and Total Tropospheric Column NO2, for all atmospheric conditions, and for sky conditions where cloud fraction is less than 30 percent.\n",
    "\n",
    "Nitrogen dioxide is an important chemical species in both, the stratosphere where it plays a key role in ozone chemistry, and in the troposphere where it is a precursor to ozone production. In the troposphere, it is produced in various combustion processes and in lightning and is an indicator of poor air quality.\n",
    "\n",
    "The OMNO2d data are stored in version 5 EOS Hierarchical Data Format (HDF-EOS). Each file contains data from the day lit portion of the orbit (~14 orbits). The average file size for the OMNO2d data product is about 12 Mbytes.\n"
   ]
  },
  {
   "cell_type": "code",
   "execution_count": 2,
   "metadata": {
    "scrolled": true
   },
   "outputs": [
    {
     "name": "stdout",
     "output_type": "stream",
     "text": [
      "OMI-Aura_L3-OMNO2d_2020m0601_v003-2020m0602t233926.he5\r\n",
      "OMI-Aura_L3-OMNO2d_2020m0601_v003-2020m0602t233926.he5.xml\r\n",
      "OMI-Aura_L3-OMNO2d_2020m0602_v003-2020m0603t185634.he5\r\n",
      "OMI-Aura_L3-OMNO2d_2020m0602_v003-2020m0603t185634.he5.xml\r\n",
      "OMI-Aura_L3-OMNO2d_2020m0603_v003-2020m0605t002649.he5\r\n",
      "OMI-Aura_L3-OMNO2d_2020m0603_v003-2020m0605t002649.he5.xml\r\n",
      "OMI-Aura_L3-OMNO2d_2020m0604_v003-2020m0605t181436.he5\r\n",
      "OMI-Aura_L3-OMNO2d_2020m0604_v003-2020m0605t181436.he5.xml\r\n",
      "OMI-Aura_L3-OMNO2d_2020m0605_v003-2020m0607t083319.he5\r\n",
      "OMI-Aura_L3-OMNO2d_2020m0605_v003-2020m0607t083319.he5.xml\r\n",
      "OMI-Aura_L3-OMNO2d_2020m0606_v003-2020m0607t175958.he5\r\n",
      "OMI-Aura_L3-OMNO2d_2020m0606_v003-2020m0607t175958.he5.xml\r\n",
      "OMI-Aura_L3-OMNO2d_2020m0607_v003-2020m0608t175847.he5\r\n",
      "OMI-Aura_L3-OMNO2d_2020m0607_v003-2020m0608t175847.he5.xml\r\n",
      "OMI-Aura_L3-OMNO2d_2020m0608_v003-2020m0610t005407.he5\r\n",
      "OMI-Aura_L3-OMNO2d_2020m0608_v003-2020m0610t005407.he5.xml\r\n",
      "OMI-Aura_L3-OMNO2d_2020m0609_v003-2020m0610t180920.he5\r\n",
      "OMI-Aura_L3-OMNO2d_2020m0609_v003-2020m0610t180920.he5.xml\r\n"
     ]
    }
   ],
   "source": [
    "# 2020 january\n",
    "! wget -q -nH -nd 'https://acdisc.gesdisc.eosdis.nasa.gov/data/Aura_OMI_Level3/OMNO2d.003/2020/' -O - | grep OMNO2d_2020m06 | cut -f4 -d\\\""
   ]
  },
  {
   "cell_type": "code",
   "execution_count": null,
   "metadata": {},
   "outputs": [],
   "source": [
    "path = \"https://acdisc.gesdisc.eosdis.nasa.gov/data/Aura_OMI_Level3/OMNO2d.003/2020/\""
   ]
  },
  {
   "cell_type": "code",
   "execution_count": 6,
   "metadata": {},
   "outputs": [
    {
     "name": "stdout",
     "output_type": "stream",
     "text": [
      "--2020-06-02 19:22:12--  https://acdisc.gesdisc.eosdis.nasa.gov/data/Aura_OMI_Level3/OMNO2d.003/2020/OMI-Aura_L3-OMNO2d_2020m0101_v003-2020m0330t173100.he5\n",
      "Resolving acdisc.gesdisc.eosdis.nasa.gov (acdisc.gesdisc.eosdis.nasa.gov)... 198.118.197.85\n",
      "Connecting to acdisc.gesdisc.eosdis.nasa.gov (acdisc.gesdisc.eosdis.nasa.gov)|198.118.197.85|:443... connected.\n",
      "HTTP request sent, awaiting response... 302 Found\n",
      "Location: https://urs.earthdata.nasa.gov/oauth/authorize/?scope=uid&app_type=401&client_id=e2WVk8Pw6weeLUKZYOxvTQ&response_type=code&redirect_uri=https%3A%2F%2Facdisc.gesdisc.eosdis.nasa.gov%2Fdata-redirect&state=aHR0cHM6Ly9hY2Rpc2MuZ2VzZGlzYy5lb3NkaXMubmFzYS5nb3YvZGF0YS9BdXJhX09NSV9MZXZlbDMvT01OTzJkLjAwMy8yMDIwL09NSS1BdXJhX0wzLU9NTk8yZF8yMDIwbTAxMDFfdjAwMy0yMDIwbTAzMzB0MTczMTAwLmhlNQ [following]\n",
      "--2020-06-02 19:22:12--  https://urs.earthdata.nasa.gov/oauth/authorize/?scope=uid&app_type=401&client_id=e2WVk8Pw6weeLUKZYOxvTQ&response_type=code&redirect_uri=https%3A%2F%2Facdisc.gesdisc.eosdis.nasa.gov%2Fdata-redirect&state=aHR0cHM6Ly9hY2Rpc2MuZ2VzZGlzYy5lb3NkaXMubmFzYS5nb3YvZGF0YS9BdXJhX09NSV9MZXZlbDMvT01OTzJkLjAwMy8yMDIwL09NSS1BdXJhX0wzLU9NTk8yZF8yMDIwbTAxMDFfdjAwMy0yMDIwbTAzMzB0MTczMTAwLmhlNQ\n",
      "Resolving urs.earthdata.nasa.gov (urs.earthdata.nasa.gov)... 198.118.243.33\n",
      "Connecting to urs.earthdata.nasa.gov (urs.earthdata.nasa.gov)|198.118.243.33|:443... connected.\n",
      "HTTP request sent, awaiting response... 401 Unauthorized\n",
      "Authentication selected: Basic realm=\"Please enter your Earthdata Login credentials. If you do not have a Earthdata Login, create one at https://urs.earthdata.nasa.gov//users/new\"\n",
      "Reusing existing connection to urs.earthdata.nasa.gov:443.\n",
      "HTTP request sent, awaiting response... 401 Unauthorized\n",
      "\n",
      "Username/Password Authentication Failed.\n"
     ]
    }
   ],
   "source": [
    "# download 2020 single file \n",
    "! wget --user=remipico --ask-password --load-cookies ~/.urs_cookies --save-cookies ~/.urs_cookies --keep-session-cookies --content-disposition https://acdisc.gesdisc.eosdis.nasa.gov/data/Aura_OMI_Level3/OMNO2d.003/2020/OMI-Aura_L3-OMNO2d_2020m0101_v003-2020m0330t173100.he5\n",
    "\n",
    "# multiple files 2020\n",
    "wget --user=remipico --ask-password --load-cookies ~/.urs_cookies --save-cookies ~/.urs_cookies --keep-session-cookies -r -c -nH -nd -np -A he5 --content-disposition https://acdisc.gesdisc.eosdis.nasa.gov/data/Aura_OMI_Level3/OMNO2d.003/2020/ "
   ]
  },
  {
   "cell_type": "code",
   "execution_count": 3,
   "metadata": {},
   "outputs": [
    {
     "name": "stdout",
     "output_type": "stream",
     "text": [
      "  % Total    % Received % Xferd  Average Speed   Time    Time     Time  Current\n",
      "                                 Dload  Upload   Total   Spent    Left  Speed\n",
      "  0   573    0     0    0     0      0      0 --:--:-- --:--:-- --:--:--     0\n",
      "100    27    0    27    0     0     60      0 --:--:-- --:--:-- --:--:--    60\n"
     ]
    }
   ],
   "source": [
    "! curl -n -c ~/.urs_cookies -b ~/.urs_cookies -LJO --url https://acdisc.gsfc.nasa.gov/data/Aura_OMI_Level2G/OMAEROG.003/2020/OMI-Aura_L2G-OMAEROG_2020m0102_v003-2020m0103t061640.he5\n",
    "    "
   ]
  },
  {
   "cell_type": "code",
   "execution_count": 4,
   "metadata": {},
   "outputs": [
    {
     "name": "stdout",
     "output_type": "stream",
     "text": [
      "--2020-05-30 20:35:20--  https://goldsmr4.gesdisc.eosdis.nasa.gov/data/MERRA2_MONTHLY/M2TMNXSLV.5.12.4/1981/MERRA2_100.tavgM_2d_slv_Nx.198101.nc4\n",
      "Resolving goldsmr4.gesdisc.eosdis.nasa.gov (goldsmr4.gesdisc.eosdis.nasa.gov)... 198.118.197.95\n",
      "Connecting to goldsmr4.gesdisc.eosdis.nasa.gov (goldsmr4.gesdisc.eosdis.nasa.gov)|198.118.197.95|:443... connected.\n",
      "HTTP request sent, awaiting response... 302 Found\n",
      "Location: https://urs.earthdata.nasa.gov/oauth/authorize/?scope=uid&app_type=401&client_id=e2WVk8Pw6weeLUKZYOxvTQ&response_type=code&redirect_uri=https%3A%2F%2Fgoldsmr4.gesdisc.eosdis.nasa.gov%2Fdata-redirect&state=aHR0cHM6Ly9nb2xkc21yNC5nZXNkaXNjLmVvc2Rpcy5uYXNhLmdvdi9kYXRhL01FUlJBMl9NT05USExZL00yVE1OWFNMVi41LjEyLjQvMTk4MS9NRVJSQTJfMTAwLnRhdmdNXzJkX3Nsdl9OeC4xOTgxMDEubmM0 [following]\n",
      "--2020-05-30 20:35:20--  https://urs.earthdata.nasa.gov/oauth/authorize/?scope=uid&app_type=401&client_id=e2WVk8Pw6weeLUKZYOxvTQ&response_type=code&redirect_uri=https%3A%2F%2Fgoldsmr4.gesdisc.eosdis.nasa.gov%2Fdata-redirect&state=aHR0cHM6Ly9nb2xkc21yNC5nZXNkaXNjLmVvc2Rpcy5uYXNhLmdvdi9kYXRhL01FUlJBMl9NT05USExZL00yVE1OWFNMVi41LjEyLjQvMTk4MS9NRVJSQTJfMTAwLnRhdmdNXzJkX3Nsdl9OeC4xOTgxMDEubmM0\n",
      "Resolving urs.earthdata.nasa.gov (urs.earthdata.nasa.gov)... 198.118.243.33\n",
      "Connecting to urs.earthdata.nasa.gov (urs.earthdata.nasa.gov)|198.118.243.33|:443... connected.\n",
      "HTTP request sent, awaiting response... 401 Unauthorized\n",
      "\n",
      "Username/Password Authentication Failed.\n"
     ]
    }
   ],
   "source": [
    "! wget --load-cookies ~/.urs_cookies --save-cookies ~/.urs_cookies --keep-session-cookies --content-disposition https://goldsmr4.gesdisc.eosdis.nasa.gov/data/MERRA2_MONTHLY/M2TMNXSLV.5.12.4/1981/MERRA2_100.tavgM_2d_slv_Nx.198101.nc4\n",
    "\n"
   ]
  },
  {
   "cell_type": "code",
   "execution_count": null,
   "metadata": {},
   "outputs": [],
   "source": []
  }
 ],
 "metadata": {
  "kernelspec": {
   "display_name": "Python 3",
   "language": "python",
   "name": "python3"
  },
  "language_info": {
   "codemirror_mode": {
    "name": "ipython",
    "version": 3
   },
   "file_extension": ".py",
   "mimetype": "text/x-python",
   "name": "python",
   "nbconvert_exporter": "python",
   "pygments_lexer": "ipython3",
   "version": "3.7.6"
  }
 },
 "nbformat": 4,
 "nbformat_minor": 2
}
