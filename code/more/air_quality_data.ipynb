{
 "cells": [
  {
   "cell_type": "markdown",
   "metadata": {},
   "source": [
    "# Air-Quality Satellite Temporal Signals \n",
    "\n",
    "\n",
    "Here I collected in a dataframe calculated statistics related to  different air quality temporal signals from the following products:\n",
    "\n",
    "    \n",
    "    OMAEROG\n",
    "    https://disc.gsfc.nasa.gov/datasets/OMAEROG_003/summary?keywords=AIR%20QUALITY\n",
    "    \n",
    "    OMSO2e\n",
    "    https://disc.gsfc.nasa.gov/datasets/OMSO2e_003/summary?keywords=ColumnAmountSO2_PBL\n",
    "    \n",
    "    OMANO2\n",
    "    https://disc.gsfc.nasa.gov/datasets/OMNO2G_003/summary?keywords=ColumnAmountNO2\n",
    "    \n"
   ]
  },
  {
   "cell_type": "markdown",
   "metadata": {},
   "source": [
    "### Output\n",
    "    NASA_airquality.csv"
   ]
  },
  {
   "cell_type": "markdown",
   "metadata": {},
   "source": [
    "### Schema datasets"
   ]
  },
  {
   "cell_type": "code",
   "execution_count": null,
   "metadata": {},
   "outputs": [],
   "source": []
  },
  {
   "cell_type": "markdown",
   "metadata": {},
   "source": [
    "#  Library "
   ]
  },
  {
   "cell_type": "code",
   "execution_count": 1,
   "metadata": {},
   "outputs": [],
   "source": [
    "import numpy as np \n",
    "import h5py \n",
    "import matplotlib.pyplot as plt\n",
    "from mpl_toolkits.basemap import Basemap\n",
    "import pandas as pd\n",
    "\n",
    "from os import listdir\n",
    "from os.path import isfile, join\n",
    "import os \n"
   ]
  },
  {
   "cell_type": "code",
   "execution_count": 7,
   "metadata": {},
   "outputs": [],
   "source": [
    "location_range_italy = {\"llcrnrlat\":30, \"urcrnrlat\" : 50, \"llcrnrlon\":4, \"urcrnrlon\" : 20}\n",
    "location_range_all = {\"llcrnrlat\":-90, \"urcrnrlat\" : 90, \"llcrnrlon\":-180, \"urcrnrlon\" : 180}\n",
    "\n",
    "\n",
    "# this get all file froma a directory \n",
    "def get_files(mypath):\n",
    "    onlyfiles = [f for f in listdir(mypath) if isfile(join(mypath, f)) and not f.startswith(\".\")]\n",
    "    return sorted(onlyfiles)\n",
    "\n",
    "\n",
    "def get_stats(data_info, signal, datafiles, index=None, stat=np.mean):\n",
    "    #FILE_NAME = ppp\n",
    "    #DATAFIELD_NAME = '/HDFEOS/GRIDS/OMI Total Column Amount SO2/Data Fields/SlantColumnAmountSO2'\n",
    "    #loc = location_range_italy\n",
    "    #fig = plt.figure(figsize=[15,15])\n",
    "\n",
    "    DATAFIELD_NAME = data_info['datafield']+ \"/\" +signal[\"name\"]\n",
    "    out =[]\n",
    "    for d in datafiles:\n",
    "        FILE_NAME = os.path.join(data_info['path'], d)\n",
    "        with h5py.File(FILE_NAME, mode='r') as f:\n",
    "            # List available datasets.\n",
    "            #print(f.keys())\n",
    "\n",
    "            # Read dataset.\n",
    "            dset = f[DATAFIELD_NAME]\n",
    "            data = dset[:]\n",
    "            #denom = np.meadian(data) \n",
    "            \n",
    "            shape = data.shape\n",
    "            \n",
    "            \n",
    "            if index is None:\n",
    "                out.append(stat(data))\n",
    "            else:\n",
    "                out.append(stat(data[index]))\n",
    "            \n",
    "    return out\n",
    "\n",
    "\n",
    "\n",
    "def show_map(FILE_NAME, DATAFIELD_NAME, loc):\n",
    "# Open file.\n",
    "\n",
    "    fig = plt.figure(figsize=[15,15])\n",
    "    with h5py.File(FILE_NAME, mode='r') as f:\n",
    "        # List available datasets.\n",
    "        print(f.keys())\n",
    "\n",
    "        # Read dataset.\n",
    "        dset = f[DATAFIELD_NAME]\n",
    "        data = dset[:]\n",
    "\n",
    "        data = data[data!=-1.2676506E30]\n",
    "        # Handle fill value.\n",
    "        #data[data == dset.fillvalue] = np.nan\n",
    "        #data = np.ma.masked_where(np.isnan(data), data)\n",
    "\n",
    "        # Get attributes needed for the plot.\n",
    "        # String attributes actually come in as the bytes type and should\n",
    "        # be decoded to UTF-8 (python3).\n",
    "        title = dset.attrs['Title'].decode()\n",
    "        units = dset.attrs['Units'].decode()\n",
    "\n",
    "        longitude = np.arange(0., 1440.0) * 0.25 - 180 + 0.125\n",
    "        latitude = np.arange(0., 720.0) * 0.25 - 90 + 0.125\n",
    "\n",
    "        #m = Basemap(projection='cyl', resolution='l', llcrnrlat=-90, urcrnrlat = 90, llcrnrlon=-180, urcrnrlon = 180)\n",
    "        m = Basemap(projection='cyl', \n",
    "                    resolution='l', \n",
    "                    llcrnrlat=loc[\"llcrnrlat\"], \n",
    "                    urcrnrlat = loc[\"urcrnrlat\"], \n",
    "                    llcrnrlon=loc[\"llcrnrlon\"], \n",
    "                    urcrnrlon = loc[\"urcrnrlon\"])\n",
    "\n",
    "        m.drawcoastlines(linewidth=3)\n",
    "        m.drawparallels(np.arange(-90., 120., 30.), labels=[1, 0, 0, 0])\n",
    "        m.drawmeridians(np.arange(-180., 181., 45.), labels=[0, 0, 0, 1])\n",
    "        #x, y = m(longitude, latitude,)\n",
    "\n",
    "\n",
    "        aaa = m.pcolormesh(longitude, latitude, data, latlon=True)\n",
    "        cb = m.colorbar()\n",
    "        cb.set_label(units)\n",
    "        \n",
    "# extract froom filename the timestamp\n",
    "def get_timestamp(file_name):\n",
    "    date = file_name[file_name.rfind('-')+1:file_name.rfind('.')]\n",
    "    YYYY = date[0:date.rfind('m')]\n",
    "    MM = date[date.rfind('m')+1:date.rfind('t')][0:2]\n",
    "    DD = date[date.rfind('m')+1:date.rfind('t')][2:4]\n",
    "    hh = date[date.rfind('t')+1:][0:2]\n",
    "    mm = date[date.rfind('t')+1:][2:4]\n",
    "    ss = date[date.rfind('t')+1:][4:6]\n",
    "    return YYYY,MM,DD,hh,mm, ss\n",
    "\n",
    "\n",
    "def xy(angle_lat, angle_lon):\n",
    "    y = (-1)* 720 * angle_lon/ (-180)\n",
    "    x = (-1) * 1440 * angle_lat/ (-360)\n",
    "    \n",
    "    if y >720: y=720\n",
    "    if x >1440: x=1440\n",
    "\n",
    "    return np.int16(np.round(x)), np.int16(np.round(y))\n",
    "\n",
    "\n",
    "class storage():\n",
    "\n",
    "    def __init__(self):\n",
    "\n",
    "        #self.location = location\n",
    "       \n",
    "        #self.filename = filename\n",
    "        #self.schema ={'date': '', \n",
    "        #              'hashtag': '', \n",
    "        #              'username': ''}\n",
    "        \n",
    "        self.schema = {'product_shortname': '', \\\n",
    "                       \"signal_name\":'',\\\n",
    "                       'value': '',\\\n",
    "                      'year': '',\\\n",
    "                      'month': '',\\\n",
    "                      'day': '', \\\n",
    "                      'hour': '', \\\n",
    "                      'minutes': '', \\\n",
    "                      'seconds':'', \\\n",
    "                      }\n",
    "    \n",
    "        self.df = None\n",
    "\n",
    "        #self.load()\n",
    "\n",
    "        if self.df is None: self.new()\n",
    "\n",
    "    def new(self): \n",
    "        self.df = pd.DataFrame(columns=self.schema.keys())\n",
    "        return self.df\n",
    "\n",
    "    def load(self, location, filename, verbose=False):\n",
    "\n",
    "        spath = location + '/' + filename\n",
    "\n",
    "        if not os.path.isfile(spath):\n",
    "            if verbose:\n",
    "                print('Error: file not found:', spath)\n",
    "            return -1\n",
    "\n",
    "        self.df = pd.read_csv(spath, index_col=False)\n",
    "        return 0\n",
    "\n",
    "    def show(self): self.df.head()\n",
    "\n",
    "    def schema(self): return schema\n",
    "\n",
    "    def add(self, rowdic):\n",
    "        try:\n",
    "            #print(rowdic)\n",
    "            self.df = self.df.append(rowdic, ignore_index=True)\n",
    "            # return self.df\n",
    "\n",
    "        except Exception() as e:\n",
    "            print('Error:', e, '\\n Schema:', self.schema)\n",
    "            # return None\n",
    "\n",
    "    def save(self, location, filename):\n",
    "        spath = location\n",
    "\n",
    "        if not os.path.exists(spath):\n",
    "            os.makedirs(spath)\n",
    "\n",
    "        spath = spath + '/' + filename\n",
    "       \n",
    "        if not os.path.isfile(spath):\n",
    "            self.df.to_csv(spath, header=self.schema.keys(), index=False, columns=self.schema)\n",
    "        else:  # else it exists so append without writing the header\n",
    "            self.df.to_csv(spath, mode='w', header=True, index=False, columns=self.schema)\n",
    "  \n",
    "    def concat(self, storage2):\n",
    "        self.df = pd.concat([self.df, storage2.df], ignore_index=True)\n",
    "\n",
    "\n",
    "\n",
    "def create_dataframe(data_info, signal, locations, units=\"DU\", stat = np.mean, minv = None, maxv=None):\n",
    "    #FILE_NAME = ppp\n",
    "    #DATAFIELD_NAME = '/HDFEOS/GRIDS/OMI Total Column Amount SO2/Data Fields/SlantColumnAmountSO2'\n",
    "    #loc = location_range_italy\n",
    "    #fig = plt.figure(figsize=[15,15])\n",
    "    st = storage()\n",
    "    \n",
    "    datafiles = get_files(data_info['path'])\n",
    "    \n",
    "    DATAFIELD_NAME = data_info['datafield']+ \"/\" +signal[\"name\"]\n",
    "    out =[]\n",
    "    for d in datafiles:\n",
    "        \n",
    "        \n",
    "        FILE_NAME = os.path.join(data_info['path'], d)\n",
    "        with h5py.File(FILE_NAME, mode='r') as f:\n",
    "            # List available datasets.\n",
    "            #print(f.keys())\n",
    "\n",
    "            # Read dataset.\n",
    "            dset = f[DATAFIELD_NAME]\n",
    "            data = dset[:]\n",
    "            \n",
    "                \n",
    "            if units ==\"DU\":\n",
    "                DU = 2.6867*10**16\n",
    "                data_filtered = data_filtered/DU \n",
    "\n",
    "            if minv is not None:\n",
    "                data_filtered[data_filtered<minv]=np.NaN\n",
    "            if maxv is not None:\n",
    "                data_filtered[data_filtered>maxv]=np.NaN\n",
    "\n",
    "            # extract time from the file name\n",
    "            YYYY,MM,DD,hh,mm, ss = get_timestamp(d)\n",
    "            \n",
    "            for location in locations:\n",
    "                \n",
    "                stats = get_location_stats(location, data_filtered, \n",
    "                       units=\"DU\" , minv=minv, maxv=maxv, min_percdata_forstats=0.9)\n",
    "                \n",
    "                mn = stats[0]\n",
    "                sd = stats[1]\n",
    "                md = stats[2]\n",
    "                q1 = stats[3]\n",
    "                q2 = stats[4]\n",
    "                \n",
    "                row = {'product_shortname': data_info['shortname'],\n",
    "                   \"signal_name\": signal[\"name\"],\n",
    "                   'value_mn': stats[0],\n",
    "                    'value_sd': stats[1],\n",
    "                    'value_md': stats[2],\n",
    "                    'value_q1': stats[3],\n",
    "                    'value_q2': stats[4],\n",
    "                    'loc_name': location[\"name\"],\n",
    "                   'loc_lat': location[\"lat\"],\n",
    "                   'loc_lang': location[\"long\"],\n",
    "                   'loc_zoom': location[\"zoom\"],\n",
    "                   'year': YYYY,\n",
    "                    'month': MM,\n",
    "                    'day': DD, \n",
    "                    'hour': hh, \n",
    "                    'minutes': mm, \n",
    "                    'seconds':ss\n",
    "                    }\n",
    "                \n",
    "                st.add(row)\n",
    "            \n",
    "            \n",
    "            '''\n",
    "            shape = data.shape\n",
    "            if len(shape)==4: #nwave\n",
    "                for i in range(signal[\"nwave\"]):\n",
    "                    data_nwave = data[:,i,:,:]\n",
    "                    data_nwave = data_nwave.reshape([data_nwave.shape[0]*data_nwave.shape[1]*data_nwave.shape[2]])\n",
    "                    stat_val = stat(data_nwave[data_nwave!=signal['missing_value']])\n",
    "                    row['signal_name']= signal[\"name\"]+\"_nwave_\" +str(i)\n",
    "                    row['value']= stat_val\n",
    "                    st.add(row)\n",
    "                    \n",
    "            if len(shape)==3:\n",
    "                data = data.reshape([data.shape[0]*data.shape[1]*data.shape[2]])\n",
    "                stat_val = stat(data[data!=signal['missing_value']])\n",
    "                row['value']= stat_val\n",
    "                st.add(row)\n",
    "                \n",
    "            if len(shape)==2:\n",
    "                data = data.reshape([data.shape[0]*data.shape[1]])\n",
    "                stat_val = stat(data[data!=signal['missing_value']])\n",
    "                row['value']= stat_val\n",
    "                st.add(row)\n",
    "            '''\n",
    "    return st\n",
    "\n",
    "\n",
    "def get_location_stats(location, data, zoom = 1, \\\n",
    "                       units=\"DU\" , minv=None, maxv=None, min_percdata_forstats=0.9, \\\n",
    "                       show_map=False, show_stats=False, \\\n",
    "                       figsize = [7,7]):\n",
    "    '''\n",
    "    location = info about location, ex. format = {\"lat\":39, \"long\" :116, \"zoom\":5}\n",
    "    data = 2d array (lat x long) of satellite signals\n",
    "    units = DU of molcm2, 1 DU = 2.6867*10**16 mol/cm2\n",
    "    min_percdata_forstats= is the minumu perc of data to produce statistic. satellites can have dark zones\n",
    "    \n",
    "    '''\n",
    "    longitude = np.arange(0., 1440.0) * 0.25 - 180 + 0.125\n",
    "    latitude = np.arange(0., 720.0) * 0.25 - 90 + 0.125\n",
    "\n",
    "    X = np.argwhere((latitude>location[\"lat\"]-zoom) & (latitude<=location[\"lat\"]+zoom)).flatten()\n",
    "    Y = np.argwhere((longitude>location[\"long\"]-zoom) & (longitude<=location[\"long\"]+zoom)).flatten()\n",
    "    data_filtered = data[X,:]\n",
    "    data_filtered = data_filtered[:,Y]\n",
    "    \n",
    "    if units ==\"DU\":\n",
    "        DU = 2.6867*10**16\n",
    "        data_filtered = data_filtered/DU \n",
    "        \n",
    "    if minv is not None:\n",
    "        data_filtered[data_filtered<minv]=np.NaN\n",
    "    if maxv is not None:\n",
    "        data_filtered[data_filtered>maxv]=np.NaN\n",
    "\n",
    "    if show_map ==True:\n",
    "        plt.figure(figsize=figsize)\n",
    "        plt.imshow(data_filtered, cmap=\"Paired\", vmin=minv, vmax=maxv)\n",
    "        plt.show()\n",
    "    if show_stats == True:\n",
    "        d = [ i for i in data_filtered.flatten()  if i >0 ]\n",
    "        bp = sns.boxplot(d)\n",
    "        sns.stripplot(d, color=\"orange\", jitter=0.2, size=2.5,)\n",
    "\n",
    "        #plt.show()\n",
    "    \n",
    "    # if num nan is > then 90% return Nan (it means that the satellite was not covering the area)\n",
    "    num_nan = data_filtered[np.isnan(data_filtered)].shape[0]\n",
    "    n = data_filtered.flatten().shape[0]\n",
    "    if (num_nan/n)>=min_percdata_forstats:\n",
    "        return np.Nan,np.Nan,np.Nan,np.Nan,np.Nan\n",
    "    \n",
    "    Q1 = np.nanpercentile(data_filtered, 25)\n",
    "    MD = np.nanpercentile(data_filtered, 50)\n",
    "    Q2 = np.nanpercentile(data_filtered, 75)\n",
    "    SD = np.nanstd(data_filtered)\n",
    "    MN = np.nanmean(data_filtered)\n",
    "    \n",
    "    return MN, SD, MD, Q1, Q2\n",
    "\n",
    "\n",
    "def get_missing_Value(datadescr, signal):\n",
    "    \n",
    "    datafiles = get_files(datadescr['path'])\n",
    "    f0 = h5py.File(os.path.join(datadescr['path'], datafiles[0]),\"r\")\n",
    "\n",
    "    dd= f0[datadescr['datafield']+\"/\"+signal['name']]\n",
    "    dd = np.array(dd)\n",
    "    n = len(dd.shape)\n",
    "    if n==4:\n",
    "        ddd = dd.reshape([dd.shape[0]*dd.shape[1]*dd.shape[2]*dd.shape[3]])\n",
    "    if n==3:\n",
    "        ddd = dd.reshape([dd.shape[0]*dd.shape[1]*dd.shape[2]])\n",
    "    if n==2:\n",
    "        ddd = dd.reshape([dd.shape[0]*dd.shape[1]])\n",
    "    \n",
    "    return np.min(ddd)"
   ]
  },
  {
   "cell_type": "markdown",
   "metadata": {},
   "source": [
    "\n",
    "# OMAEROG dataframe\n",
    "\n",
    "data feilds:\n",
    "\n",
    "<KeysViewHDF5 ['AerosolModelMW', 'AerosolModelsPassedThreshold', 'AerosolOpticalThicknessMW', 'AerosolOpticalThicknessMWPrecision', 'AerosolOpticalThicknessPassedThresholdMean', 'AerosolOpticalThicknessPassedThresholdStd', 'CloudFlags', 'CloudPressure', 'EffectiveCloudFraction', 'GroundPixelQualityFlags', 'InstrumentConfigurationId', 'Latitude', 'LineNumber', 'Longitude', 'MeasurementQualityFlags', 'NumberOfCandidateScenes', 'NumberOfModelsPassedThreshold', 'OrbitNumber', 'PathLength', 'ProcessingQualityFlagsMW', 'RootMeanSquareErrorOfFitPassedThreshold', 'SceneNumber', 'SingleScatteringAlbedoMW', 'SingleScatteringAlbedoMWPrecision', 'SingleScatteringAlbedoPassedThresholdMean', 'SingleScatteringAlbedoPassedThresholdStd', 'SolarAzimuthAngle', 'SolarZenithAngle', 'SpacecraftAltitude', 'SpacecraftLatitude', 'SpacecraftLongitude', 'TerrainHeight', 'TerrainPressure', 'TerrainReflectivity', 'Time', 'UVAerosolIndex', 'VISAerosolIndex', 'ViewingAzimuthAngle', 'ViewingZenithAngle', 'XTrackQualityFlags']>\n",
    "\n",
    "documentation\n",
    "\n",
    "https://disc.gsfc.nasa.gov/datasets/OMAEROG_003/summary?keywords=AIR%20QUALITY\n",
    "\n",
    "https://acdisc.gesdisc.eosdis.nasa.gov/data/Aura_OMI_Level2G/OMAEROG.003/doc/OMAEROG_OSIPS_README_V003.doc\n",
    "\n",
    "Data\n",
    "\n",
    "https://acdisc.gsfc.nasa.gov/data/Aura_OMI_Level2G/\n"
   ]
  },
  {
   "cell_type": "code",
   "execution_count": 27,
   "metadata": {},
   "outputs": [],
   "source": [
    "datadesc_OMAEROG = {\"shortname\":\"OMAEROG\",\n",
    "                    \"path\":\"./OMAEROG\", \n",
    "                    \"datafield\":\"/HDFEOS/GRIDS/ColumnAmountAerosol/Data Fields\"}"
   ]
  },
  {
   "cell_type": "code",
   "execution_count": 28,
   "metadata": {},
   "outputs": [],
   "source": [
    "signal_SingleScatteringAlbedoMW = {\"name\":\"SingleScatteringAlbedoMW\", \n",
    "                         \"missing_value\":-32767, \n",
    "                         \"nCandidate\":15, \n",
    "                         \"nwave\":5}\n",
    "\n",
    "signal_SingleScatteringAlbedoPassedThresholdMean = {\"name\":\"SingleScatteringAlbedoPassedThresholdMean\", \n",
    "                         \"missing_value\":-32767, \n",
    "                         \"nCandidate\":15,\n",
    "                        \"nwave\":5  }\n",
    "\n",
    "signal_AerosolModelMW = {\"name\":\"AerosolModelMW\", \n",
    "                         \"missing_value\":65535, \n",
    "                         \"nCandidate\":15}\n",
    "\n",
    "\n",
    "signal_AerosolOpticalThicknessMWPrecision = {\"name\":\"AerosolOpticalThicknessMWPrecision\", \n",
    "                         \"missing_value\":-32767, \n",
    "                         \"nCandidate\":15}\n",
    "\n",
    "\n",
    "signal_CloudPressure = {\"name\":\"CloudPressure\", \n",
    "                         \"missing_value\":-1.2676506e+30, \n",
    "                         \"nCandidate\":15}\n",
    "\n",
    "\n",
    "signal_TerrainReflectivity = {\"name\":\"TerrainReflectivity\", \n",
    "                         \"missing_value\":-32767, \n",
    "                         \"nCandidate\":15,\n",
    "                         \"nwave\":5  }"
   ]
  },
  {
   "cell_type": "code",
   "execution_count": 9,
   "metadata": {},
   "outputs": [
    {
     "data": {
      "text/html": [
       "<div>\n",
       "<style scoped>\n",
       "    .dataframe tbody tr th:only-of-type {\n",
       "        vertical-align: middle;\n",
       "    }\n",
       "\n",
       "    .dataframe tbody tr th {\n",
       "        vertical-align: top;\n",
       "    }\n",
       "\n",
       "    .dataframe thead th {\n",
       "        text-align: right;\n",
       "    }\n",
       "</style>\n",
       "<table border=\"1\" class=\"dataframe\">\n",
       "  <thead>\n",
       "    <tr style=\"text-align: right;\">\n",
       "      <th></th>\n",
       "      <th>product_shortname</th>\n",
       "      <th>signal_name</th>\n",
       "      <th>value</th>\n",
       "      <th>year</th>\n",
       "      <th>month</th>\n",
       "      <th>day</th>\n",
       "      <th>hour</th>\n",
       "      <th>minutes</th>\n",
       "      <th>seconds</th>\n",
       "    </tr>\n",
       "  </thead>\n",
       "  <tbody>\n",
       "    <tr>\n",
       "      <th>0</th>\n",
       "      <td>OMAEROG</td>\n",
       "      <td>SingleScatteringAlbedoMW_nwave_0</td>\n",
       "      <td>956.601491</td>\n",
       "      <td>2020</td>\n",
       "      <td>01</td>\n",
       "      <td>02</td>\n",
       "      <td>06</td>\n",
       "      <td>20</td>\n",
       "      <td>17</td>\n",
       "    </tr>\n",
       "    <tr>\n",
       "      <th>1</th>\n",
       "      <td>OMAEROG</td>\n",
       "      <td>SingleScatteringAlbedoMW_nwave_1</td>\n",
       "      <td>960.400810</td>\n",
       "      <td>2020</td>\n",
       "      <td>01</td>\n",
       "      <td>02</td>\n",
       "      <td>06</td>\n",
       "      <td>20</td>\n",
       "      <td>17</td>\n",
       "    </tr>\n",
       "    <tr>\n",
       "      <th>2</th>\n",
       "      <td>OMAEROG</td>\n",
       "      <td>SingleScatteringAlbedoMW_nwave_2</td>\n",
       "      <td>964.367310</td>\n",
       "      <td>2020</td>\n",
       "      <td>01</td>\n",
       "      <td>02</td>\n",
       "      <td>06</td>\n",
       "      <td>20</td>\n",
       "      <td>17</td>\n",
       "    </tr>\n",
       "  </tbody>\n",
       "</table>\n",
       "</div>"
      ],
      "text/plain": [
       "  product_shortname                       signal_name       value  year month  \\\n",
       "0           OMAEROG  SingleScatteringAlbedoMW_nwave_0  956.601491  2020    01   \n",
       "1           OMAEROG  SingleScatteringAlbedoMW_nwave_1  960.400810  2020    01   \n",
       "2           OMAEROG  SingleScatteringAlbedoMW_nwave_2  964.367310  2020    01   \n",
       "\n",
       "  day hour minutes seconds  \n",
       "0  02   06      20      17  \n",
       "1  02   06      20      17  \n",
       "2  02   06      20      17  "
      ]
     },
     "execution_count": 9,
     "metadata": {},
     "output_type": "execute_result"
    }
   ],
   "source": [
    "\n",
    "st1 = create_dataframe(datadesc_OMAEROG, signal_SingleScatteringAlbedoMW)\n",
    "st1.df.head(3)"
   ]
  },
  {
   "cell_type": "code",
   "execution_count": 10,
   "metadata": {},
   "outputs": [
    {
     "data": {
      "text/html": [
       "<div>\n",
       "<style scoped>\n",
       "    .dataframe tbody tr th:only-of-type {\n",
       "        vertical-align: middle;\n",
       "    }\n",
       "\n",
       "    .dataframe tbody tr th {\n",
       "        vertical-align: top;\n",
       "    }\n",
       "\n",
       "    .dataframe thead th {\n",
       "        text-align: right;\n",
       "    }\n",
       "</style>\n",
       "<table border=\"1\" class=\"dataframe\">\n",
       "  <thead>\n",
       "    <tr style=\"text-align: right;\">\n",
       "      <th></th>\n",
       "      <th>product_shortname</th>\n",
       "      <th>signal_name</th>\n",
       "      <th>value</th>\n",
       "      <th>year</th>\n",
       "      <th>month</th>\n",
       "      <th>day</th>\n",
       "      <th>hour</th>\n",
       "      <th>minutes</th>\n",
       "      <th>seconds</th>\n",
       "    </tr>\n",
       "  </thead>\n",
       "  <tbody>\n",
       "    <tr>\n",
       "      <th>0</th>\n",
       "      <td>OMAEROG</td>\n",
       "      <td>SingleScatteringAlbedoPassedThresholdMean_nwave_0</td>\n",
       "      <td>951.622887</td>\n",
       "      <td>2020</td>\n",
       "      <td>01</td>\n",
       "      <td>02</td>\n",
       "      <td>06</td>\n",
       "      <td>20</td>\n",
       "      <td>17</td>\n",
       "    </tr>\n",
       "    <tr>\n",
       "      <th>1</th>\n",
       "      <td>OMAEROG</td>\n",
       "      <td>SingleScatteringAlbedoPassedThresholdMean_nwave_1</td>\n",
       "      <td>955.351970</td>\n",
       "      <td>2020</td>\n",
       "      <td>01</td>\n",
       "      <td>02</td>\n",
       "      <td>06</td>\n",
       "      <td>20</td>\n",
       "      <td>17</td>\n",
       "    </tr>\n",
       "    <tr>\n",
       "      <th>2</th>\n",
       "      <td>OMAEROG</td>\n",
       "      <td>SingleScatteringAlbedoPassedThresholdMean_nwave_2</td>\n",
       "      <td>958.541929</td>\n",
       "      <td>2020</td>\n",
       "      <td>01</td>\n",
       "      <td>02</td>\n",
       "      <td>06</td>\n",
       "      <td>20</td>\n",
       "      <td>17</td>\n",
       "    </tr>\n",
       "  </tbody>\n",
       "</table>\n",
       "</div>"
      ],
      "text/plain": [
       "  product_shortname                                        signal_name  \\\n",
       "0           OMAEROG  SingleScatteringAlbedoPassedThresholdMean_nwave_0   \n",
       "1           OMAEROG  SingleScatteringAlbedoPassedThresholdMean_nwave_1   \n",
       "2           OMAEROG  SingleScatteringAlbedoPassedThresholdMean_nwave_2   \n",
       "\n",
       "        value  year month day hour minutes seconds  \n",
       "0  951.622887  2020    01  02   06      20      17  \n",
       "1  955.351970  2020    01  02   06      20      17  \n",
       "2  958.541929  2020    01  02   06      20      17  "
      ]
     },
     "execution_count": 10,
     "metadata": {},
     "output_type": "execute_result"
    }
   ],
   "source": [
    "st2 = create_dataframe(datadesc_OMAEROG, signal_SingleScatteringAlbedoPassedThresholdMean)\n",
    "st2.df.head(3)"
   ]
  },
  {
   "cell_type": "code",
   "execution_count": 11,
   "metadata": {},
   "outputs": [
    {
     "data": {
      "text/html": [
       "<div>\n",
       "<style scoped>\n",
       "    .dataframe tbody tr th:only-of-type {\n",
       "        vertical-align: middle;\n",
       "    }\n",
       "\n",
       "    .dataframe tbody tr th {\n",
       "        vertical-align: top;\n",
       "    }\n",
       "\n",
       "    .dataframe thead th {\n",
       "        text-align: right;\n",
       "    }\n",
       "</style>\n",
       "<table border=\"1\" class=\"dataframe\">\n",
       "  <thead>\n",
       "    <tr style=\"text-align: right;\">\n",
       "      <th></th>\n",
       "      <th>product_shortname</th>\n",
       "      <th>signal_name</th>\n",
       "      <th>value</th>\n",
       "      <th>year</th>\n",
       "      <th>month</th>\n",
       "      <th>day</th>\n",
       "      <th>hour</th>\n",
       "      <th>minutes</th>\n",
       "      <th>seconds</th>\n",
       "    </tr>\n",
       "  </thead>\n",
       "  <tbody>\n",
       "    <tr>\n",
       "      <th>0</th>\n",
       "      <td>OMAEROG</td>\n",
       "      <td>AerosolModelMW</td>\n",
       "      <td>1444.763949</td>\n",
       "      <td>2020</td>\n",
       "      <td>01</td>\n",
       "      <td>02</td>\n",
       "      <td>06</td>\n",
       "      <td>20</td>\n",
       "      <td>17</td>\n",
       "    </tr>\n",
       "    <tr>\n",
       "      <th>1</th>\n",
       "      <td>OMAEROG</td>\n",
       "      <td>AerosolModelMW</td>\n",
       "      <td>1462.383359</td>\n",
       "      <td>2020</td>\n",
       "      <td>01</td>\n",
       "      <td>20</td>\n",
       "      <td>06</td>\n",
       "      <td>25</td>\n",
       "      <td>30</td>\n",
       "    </tr>\n",
       "    <tr>\n",
       "      <th>2</th>\n",
       "      <td>OMAEROG</td>\n",
       "      <td>AerosolModelMW</td>\n",
       "      <td>1462.383359</td>\n",
       "      <td>2020</td>\n",
       "      <td>01</td>\n",
       "      <td>20</td>\n",
       "      <td>06</td>\n",
       "      <td>25</td>\n",
       "      <td>30</td>\n",
       "    </tr>\n",
       "  </tbody>\n",
       "</table>\n",
       "</div>"
      ],
      "text/plain": [
       "  product_shortname     signal_name        value  year month day hour minutes  \\\n",
       "0           OMAEROG  AerosolModelMW  1444.763949  2020    01  02   06      20   \n",
       "1           OMAEROG  AerosolModelMW  1462.383359  2020    01  20   06      25   \n",
       "2           OMAEROG  AerosolModelMW  1462.383359  2020    01  20   06      25   \n",
       "\n",
       "  seconds  \n",
       "0      17  \n",
       "1      30  \n",
       "2      30  "
      ]
     },
     "execution_count": 11,
     "metadata": {},
     "output_type": "execute_result"
    }
   ],
   "source": [
    "st3 = create_dataframe(datadesc_OMAEROG, signal_AerosolModelMW)\n",
    "st3.df.head(3)"
   ]
  },
  {
   "cell_type": "code",
   "execution_count": 12,
   "metadata": {
    "scrolled": true
   },
   "outputs": [
    {
     "data": {
      "text/html": [
       "<div>\n",
       "<style scoped>\n",
       "    .dataframe tbody tr th:only-of-type {\n",
       "        vertical-align: middle;\n",
       "    }\n",
       "\n",
       "    .dataframe tbody tr th {\n",
       "        vertical-align: top;\n",
       "    }\n",
       "\n",
       "    .dataframe thead th {\n",
       "        text-align: right;\n",
       "    }\n",
       "</style>\n",
       "<table border=\"1\" class=\"dataframe\">\n",
       "  <thead>\n",
       "    <tr style=\"text-align: right;\">\n",
       "      <th></th>\n",
       "      <th>product_shortname</th>\n",
       "      <th>signal_name</th>\n",
       "      <th>value</th>\n",
       "      <th>year</th>\n",
       "      <th>month</th>\n",
       "      <th>day</th>\n",
       "      <th>hour</th>\n",
       "      <th>minutes</th>\n",
       "      <th>seconds</th>\n",
       "    </tr>\n",
       "  </thead>\n",
       "  <tbody>\n",
       "    <tr>\n",
       "      <th>0</th>\n",
       "      <td>OMAEROG</td>\n",
       "      <td>AerosolOpticalThicknessMWPrecision</td>\n",
       "      <td>76.684764</td>\n",
       "      <td>2020</td>\n",
       "      <td>01</td>\n",
       "      <td>02</td>\n",
       "      <td>06</td>\n",
       "      <td>20</td>\n",
       "      <td>17</td>\n",
       "    </tr>\n",
       "    <tr>\n",
       "      <th>1</th>\n",
       "      <td>OMAEROG</td>\n",
       "      <td>AerosolOpticalThicknessMWPrecision</td>\n",
       "      <td>62.510593</td>\n",
       "      <td>2020</td>\n",
       "      <td>01</td>\n",
       "      <td>20</td>\n",
       "      <td>06</td>\n",
       "      <td>25</td>\n",
       "      <td>30</td>\n",
       "    </tr>\n",
       "    <tr>\n",
       "      <th>2</th>\n",
       "      <td>OMAEROG</td>\n",
       "      <td>AerosolOpticalThicknessMWPrecision</td>\n",
       "      <td>62.510593</td>\n",
       "      <td>2020</td>\n",
       "      <td>01</td>\n",
       "      <td>20</td>\n",
       "      <td>06</td>\n",
       "      <td>25</td>\n",
       "      <td>30</td>\n",
       "    </tr>\n",
       "  </tbody>\n",
       "</table>\n",
       "</div>"
      ],
      "text/plain": [
       "  product_shortname                         signal_name      value  year  \\\n",
       "0           OMAEROG  AerosolOpticalThicknessMWPrecision  76.684764  2020   \n",
       "1           OMAEROG  AerosolOpticalThicknessMWPrecision  62.510593  2020   \n",
       "2           OMAEROG  AerosolOpticalThicknessMWPrecision  62.510593  2020   \n",
       "\n",
       "  month day hour minutes seconds  \n",
       "0    01  02   06      20      17  \n",
       "1    01  20   06      25      30  \n",
       "2    01  20   06      25      30  "
      ]
     },
     "execution_count": 12,
     "metadata": {},
     "output_type": "execute_result"
    }
   ],
   "source": [
    "st4 = create_dataframe(datadesc_OMAEROG, signal_AerosolOpticalThicknessMWPrecision)\n",
    "st4.df.head(3)"
   ]
  },
  {
   "cell_type": "code",
   "execution_count": 13,
   "metadata": {},
   "outputs": [
    {
     "data": {
      "text/html": [
       "<div>\n",
       "<style scoped>\n",
       "    .dataframe tbody tr th:only-of-type {\n",
       "        vertical-align: middle;\n",
       "    }\n",
       "\n",
       "    .dataframe tbody tr th {\n",
       "        vertical-align: top;\n",
       "    }\n",
       "\n",
       "    .dataframe thead th {\n",
       "        text-align: right;\n",
       "    }\n",
       "</style>\n",
       "<table border=\"1\" class=\"dataframe\">\n",
       "  <thead>\n",
       "    <tr style=\"text-align: right;\">\n",
       "      <th></th>\n",
       "      <th>product_shortname</th>\n",
       "      <th>signal_name</th>\n",
       "      <th>value</th>\n",
       "      <th>year</th>\n",
       "      <th>month</th>\n",
       "      <th>day</th>\n",
       "      <th>hour</th>\n",
       "      <th>minutes</th>\n",
       "      <th>seconds</th>\n",
       "    </tr>\n",
       "  </thead>\n",
       "  <tbody>\n",
       "    <tr>\n",
       "      <th>0</th>\n",
       "      <td>OMAEROG</td>\n",
       "      <td>CloudPressure</td>\n",
       "      <td>554.797913</td>\n",
       "      <td>2020</td>\n",
       "      <td>01</td>\n",
       "      <td>02</td>\n",
       "      <td>06</td>\n",
       "      <td>20</td>\n",
       "      <td>17</td>\n",
       "    </tr>\n",
       "    <tr>\n",
       "      <th>1</th>\n",
       "      <td>OMAEROG</td>\n",
       "      <td>CloudPressure</td>\n",
       "      <td>564.631653</td>\n",
       "      <td>2020</td>\n",
       "      <td>01</td>\n",
       "      <td>20</td>\n",
       "      <td>06</td>\n",
       "      <td>25</td>\n",
       "      <td>30</td>\n",
       "    </tr>\n",
       "    <tr>\n",
       "      <th>2</th>\n",
       "      <td>OMAEROG</td>\n",
       "      <td>CloudPressure</td>\n",
       "      <td>564.631653</td>\n",
       "      <td>2020</td>\n",
       "      <td>01</td>\n",
       "      <td>20</td>\n",
       "      <td>06</td>\n",
       "      <td>25</td>\n",
       "      <td>30</td>\n",
       "    </tr>\n",
       "  </tbody>\n",
       "</table>\n",
       "</div>"
      ],
      "text/plain": [
       "  product_shortname    signal_name       value  year month day hour minutes  \\\n",
       "0           OMAEROG  CloudPressure  554.797913  2020    01  02   06      20   \n",
       "1           OMAEROG  CloudPressure  564.631653  2020    01  20   06      25   \n",
       "2           OMAEROG  CloudPressure  564.631653  2020    01  20   06      25   \n",
       "\n",
       "  seconds  \n",
       "0      17  \n",
       "1      30  \n",
       "2      30  "
      ]
     },
     "execution_count": 13,
     "metadata": {},
     "output_type": "execute_result"
    }
   ],
   "source": [
    "st5 = create_dataframe(datadesc_OMAEROG, signal_CloudPressure)\n",
    "st5.df.head(3)"
   ]
  },
  {
   "cell_type": "code",
   "execution_count": 14,
   "metadata": {},
   "outputs": [
    {
     "data": {
      "text/html": [
       "<div>\n",
       "<style scoped>\n",
       "    .dataframe tbody tr th:only-of-type {\n",
       "        vertical-align: middle;\n",
       "    }\n",
       "\n",
       "    .dataframe tbody tr th {\n",
       "        vertical-align: top;\n",
       "    }\n",
       "\n",
       "    .dataframe thead th {\n",
       "        text-align: right;\n",
       "    }\n",
       "</style>\n",
       "<table border=\"1\" class=\"dataframe\">\n",
       "  <thead>\n",
       "    <tr style=\"text-align: right;\">\n",
       "      <th></th>\n",
       "      <th>product_shortname</th>\n",
       "      <th>signal_name</th>\n",
       "      <th>value</th>\n",
       "      <th>year</th>\n",
       "      <th>month</th>\n",
       "      <th>day</th>\n",
       "      <th>hour</th>\n",
       "      <th>minutes</th>\n",
       "      <th>seconds</th>\n",
       "    </tr>\n",
       "  </thead>\n",
       "  <tbody>\n",
       "    <tr>\n",
       "      <th>0</th>\n",
       "      <td>OMAEROG</td>\n",
       "      <td>TerrainReflectivity_nwave_0</td>\n",
       "      <td>298.153878</td>\n",
       "      <td>2020</td>\n",
       "      <td>01</td>\n",
       "      <td>02</td>\n",
       "      <td>06</td>\n",
       "      <td>20</td>\n",
       "      <td>17</td>\n",
       "    </tr>\n",
       "    <tr>\n",
       "      <th>1</th>\n",
       "      <td>OMAEROG</td>\n",
       "      <td>TerrainReflectivity_nwave_1</td>\n",
       "      <td>302.323957</td>\n",
       "      <td>2020</td>\n",
       "      <td>01</td>\n",
       "      <td>02</td>\n",
       "      <td>06</td>\n",
       "      <td>20</td>\n",
       "      <td>17</td>\n",
       "    </tr>\n",
       "    <tr>\n",
       "      <th>2</th>\n",
       "      <td>OMAEROG</td>\n",
       "      <td>TerrainReflectivity_nwave_2</td>\n",
       "      <td>294.929467</td>\n",
       "      <td>2020</td>\n",
       "      <td>01</td>\n",
       "      <td>02</td>\n",
       "      <td>06</td>\n",
       "      <td>20</td>\n",
       "      <td>17</td>\n",
       "    </tr>\n",
       "  </tbody>\n",
       "</table>\n",
       "</div>"
      ],
      "text/plain": [
       "  product_shortname                  signal_name       value  year month day  \\\n",
       "0           OMAEROG  TerrainReflectivity_nwave_0  298.153878  2020    01  02   \n",
       "1           OMAEROG  TerrainReflectivity_nwave_1  302.323957  2020    01  02   \n",
       "2           OMAEROG  TerrainReflectivity_nwave_2  294.929467  2020    01  02   \n",
       "\n",
       "  hour minutes seconds  \n",
       "0   06      20      17  \n",
       "1   06      20      17  \n",
       "2   06      20      17  "
      ]
     },
     "execution_count": 14,
     "metadata": {},
     "output_type": "execute_result"
    }
   ],
   "source": [
    "st6 = create_dataframe(datadesc_OMAEROG, signal_TerrainReflectivity)\n",
    "st6.df.head(3)"
   ]
  },
  {
   "cell_type": "code",
   "execution_count": null,
   "metadata": {},
   "outputs": [],
   "source": []
  },
  {
   "cell_type": "markdown",
   "metadata": {},
   "source": [
    "\n",
    "# OMANO2 dataframe\n",
    "\n",
    "data feilds:\n",
    "\n",
    "<KeysViewHDF5 ['ColumnAmountNO2', 'ColumnAmountNO2CloudScreened', 'ColumnAmountNO2Trop', 'ColumnAmountNO2TropCloudScreened', 'Weight']>\n",
    "\n",
    "documentation\n",
    "\n",
    "https://disc.gsfc.nasa.gov/datasets/OMNO2G_003/summary?keywords=ColumnAmountNO2\n",
    "\n",
    "https://acdisc.gesdisc.eosdis.nasa.gov/data/Aura_OMI_Level2G/OMAEROG.003/doc/OMAEROG_OSIPS_README_V003.doc\n",
    "\n",
    "Data\n",
    "\n",
    "https://acdisc.gsfc.nasa.gov/data/Aura_OMI_Level2G/\n",
    "\n",
    "\n",
    "    group: Data_Fields {\n",
    "    variables:\n",
    "      float ColumnAmountNO2(YDim=720, XDim=1440);\n",
    "        :_FillValue = -1.2676506E30f; // float\n",
    "        :MissingValue = -1.2676506E30f; // float\n",
    "        :ScaleFactor = 1.0f; // float\n",
    "        :Offset = 0.0f; // float\n",
    "        :Units = \"molec/cm2\";\n",
    "        :Title = \"NO2 vertical column density\";\n",
    "        :Description = \"Field=ColumnAmountNO2,StdField=ColumnAmountNO2Std,SolarZenithAngle=[0:85],VcdQualityFlags=~19,XTrackQualityFlags=~[1:254],TerrainReflectivity=[0:1000]\";\n",
    "        :_ChunkSizes = 720U, 1440U; // uint\n",
    "        :units = \"molec/cm2\";\n",
    "\n",
    "      float ColumnAmountNO2CloudScreened(YDim=720, XDim=1440);\n",
    "        :_FillValue = -1.2676506E30f; // float\n",
    "        :MissingValue = -1.2676506E30f; // float\n",
    "        :ScaleFactor = 1.0f; // float\n",
    "        :Offset = 0.0f; // float\n",
    "        :Units = \"molec/cm2\";\n",
    "        :Title = \"NO2 vertical column density, screened for CloudFraction < 30%\";\n",
    "        :Description = \"Field=ColumnAmountNO2,StdField=ColumnAmountNO2Std,SolarZenithAngle=[0:85],CloudFraction=[0:300],VcdQualityFlags=~19,XTrackQualityFlags=~[1:254],TerrainReflectivity=[0:1000]\";\n",
    "        :_ChunkSizes = 720U, 1440U; // uint\n",
    "        :units = \"molec/cm2\";\n",
    "\n",
    "      float ColumnAmountNO2Trop(YDim=720, XDim=1440);\n",
    "        :_FillValue = -1.2676506E30f; // float\n",
    "        :MissingValue = -1.2676506E30f; // float\n",
    "        :ScaleFactor = 1.0f; // float\n",
    "        :Offset = 0.0f; // float\n",
    "        :Units = \"molec/cm2\";\n",
    "        :Title = \"NO2 tropospheric column density\";\n",
    "        :Description = \"Field=ColumnAmountNO2Trop,StdField=ColumnAmountNO2TropStd,SolarZenithAngle=[0:85],VcdQualityFlags=~19,XTrackQualityFlags=~[1:254],TerrainReflectivity=[0:1000]\";\n",
    "        :_ChunkSizes = 720U, 1440U; // uint\n",
    "        :units = \"molec/cm2\";\n",
    "\n",
    "      float ColumnAmountNO2TropCloudScreened(YDim=720, XDim=1440);\n",
    "        :_FillValue = -1.2676506E30f; // float\n",
    "        :MissingValue = -1.2676506E30f; // float\n",
    "        :ScaleFactor = 1.0f; // float\n",
    "        :Offset = 0.0f; // float\n",
    "        :Units = \"molec/cm2\";\n",
    "        :Title = \"NO2 tropospheric column density, screened for CloudFraction < 30%\";\n",
    "        :Description = \"Field=ColumnAmountNO2Trop,StdField=ColumnAmountNO2TropStd,SolarZenithAngle=[0:85],CloudFraction=[0:300],VcdQualityFlags=~19,XTrackQualityFlags=~[1:254],TerrainReflectivity=[0:1000]\";\n",
    "        :_ChunkSizes = 720U, 1440U; // uint\n",
    "        :units = \"molec/cm2\";\n",
    "\n",
    "      float Weight(YDim=720, XDim=1440);\n",
    "        :Units = \"NoUnits\";\n",
    "        :_FillValue = -1.2676506E30f; // float\n",
    "        :MissingValue = -1.2676506E30f; // float\n",
    "        :ScaleFactor = 1.0f; // float\n",
    "        :Offset = 0.0f; // float\n",
    "        :Title = \"Weight Factor used for each Grid Cell\";\n",
    "        :Description = \"\";\n",
    "        :_ChunkSizes = 720U, 1440U; // uint\n",
    "        :units = \"NoUnits\";\n",
    "\n"
   ]
  },
  {
   "cell_type": "code",
   "execution_count": null,
   "metadata": {},
   "outputs": [],
   "source": []
  },
  {
   "cell_type": "code",
   "execution_count": 53,
   "metadata": {},
   "outputs": [
    {
     "data": {
      "text/plain": [
       "('2020', '01', '01', '17', '31', '00')"
      ]
     },
     "execution_count": 53,
     "metadata": {},
     "output_type": "execute_result"
    }
   ],
   "source": [
    "# extract froom filename the timestamp\n",
    "def get_timestamp_OMANO2(file_name):\n",
    "    p0 = file_name.find(\"OMNO2d_\")+len(\"OMNO2d_\")\n",
    "    p1 = file_name.find(\"_\", p0+len(\"OMNO2d_\"))\n",
    "    date = file_name[p0:p1]\n",
    "    YYYY = date[0:date.rfind('m')]\n",
    "    MM = date[date.rfind('m')+1:date.rfind('m')+3]\n",
    "    DD = date[date.rfind('m')+3:date.rfind('m')+6]\n",
    "    hh = file_name[file_name.rfind('t')+1:][0:2]\n",
    "    mm = file_name[file_name.rfind('t')+1:][2:4]\n",
    "    ss = file_name[file_name.rfind('t')+1:][4:6]\n",
    "    return YYYY,MM,DD,hh,mm, ss\n",
    "\n",
    "\n",
    "get_timestamp_OMANO2(datafiles[0])"
   ]
  },
  {
   "cell_type": "code",
   "execution_count": null,
   "metadata": {},
   "outputs": [],
   "source": []
  },
  {
   "cell_type": "markdown",
   "metadata": {},
   "source": [
    "datadesc_OMANO2 = {\"shortname\":\"OMANO2\",\n",
    "                    \"path\":\"./OMANO2\", \n",
    "                    \"datafield\":\"/HDFEOS/GRIDS/ColumnAmountNO2/Data Fields\"}\n",
    "\n",
    "\n",
    "signal_ColumnAmountNO2 = {\"name\":\"ColumnAmountNO2\", \n",
    "                         \"missing_value\":-1.2676506e+30}\n",
    "\n",
    "\n",
    "st10 = create_dataframe(datadesc_OMANO2, signal_ColumnAmountNO2)\n",
    "st10.df.head(3)"
   ]
  },
  {
   "cell_type": "code",
   "execution_count": 54,
   "metadata": {},
   "outputs": [],
   "source": [
    "datadesc_OMNO2 = {\"shortname\":\"OMNO2\",\n",
    "                    \"path\":\"./data/OMNO2d.003/2020/\", \n",
    "                    \"datafield\":\"/HDFEOS/GRIDS/ColumnAmountNO2/Data Fields\"}\n",
    "\n",
    "signal_ColumnAmountNO2TropCloudScreened = {\"name\":\"ColumnAmountNO2TropCloudScreened\",\n",
    "                                           \"missing_value\":-1.2676506e+30}"
   ]
  },
  {
   "cell_type": "code",
   "execution_count": 55,
   "metadata": {
    "scrolled": true
   },
   "outputs": [
    {
     "name": "stdout",
     "output_type": "stream",
     "text": [
      "OMI-Aura_L3-OMNO2d_2020m0101_v003-2020m0330t173100.he5\n",
      "OMI-Aura_L3-OMNO2d_2020m0102_v003-2020m0330t173624.he5\n",
      "OMI-Aura_L3-OMNO2d_2020m0103_v003-2020m0330t173624.he5\n",
      "OMI-Aura_L3-OMNO2d_2020m0104_v003-2020m0330t173631.he5\n",
      "OMI-Aura_L3-OMNO2d_2020m0105_v003-2020m0330t174158.he5\n",
      "OMI-Aura_L3-OMNO2d_2020m0106_v003-2020m0330t174145.he5\n",
      "OMI-Aura_L3-OMNO2d_2020m0107_v003-2020m0330t174719.he5\n",
      "OMI-Aura_L3-OMNO2d_2020m0108_v003-2020m0330t173618.he5\n",
      "OMI-Aura_L3-OMNO2d_2020m0109_v003-2020m0330t174149.he5\n",
      "OMI-Aura_L3-OMNO2d_2020m0110_v003-2020m0330t174148.he5\n",
      "OMI-Aura_L3-OMNO2d_2020m0111_v003-2020m0330t174145.he5\n",
      "OMI-Aura_L3-OMNO2d_2020m0112_v003-2020m0330t174734.he5\n",
      "OMI-Aura_L3-OMNO2d_2020m0113_v003-2020m0330t174730.he5\n",
      "OMI-Aura_L3-OMNO2d_2020m0114_v003-2020m0330t174842.he5\n",
      "OMI-Aura_L3-OMNO2d_2020m0115_v003-2020m0330t174710.he5\n",
      "OMI-Aura_L3-OMNO2d_2020m0116_v003-2020m0330t174157.he5\n",
      "OMI-Aura_L3-OMNO2d_2020m0117_v003-2020m0330t174148.he5\n",
      "OMI-Aura_L3-OMNO2d_2020m0118_v003-2020m0330t174723.he5\n",
      "OMI-Aura_L3-OMNO2d_2020m0119_v003-2020m0330t174733.he5\n",
      "OMI-Aura_L3-OMNO2d_2020m0120_v003-2020m0330t174711.he5\n",
      "OMI-Aura_L3-OMNO2d_2020m0121_v003-2020m0330t174718.he5\n",
      "OMI-Aura_L3-OMNO2d_2020m0122_v003-2020m0330t174716.he5\n",
      "OMI-Aura_L3-OMNO2d_2020m0123_v003-2020m0330t175242.he5\n",
      "OMI-Aura_L3-OMNO2d_2020m0124_v003-2020m0330t175241.he5\n",
      "OMI-Aura_L3-OMNO2d_2020m0125_v003-2020m0330t175242.he5\n",
      "OMI-Aura_L3-OMNO2d_2020m0126_v003-2020m0330t175248.he5\n",
      "OMI-Aura_L3-OMNO2d_2020m0127_v003-2020m0330t175248.he5\n",
      "OMI-Aura_L3-OMNO2d_2020m0128_v003-2020m0330t175244.he5\n",
      "OMI-Aura_L3-OMNO2d_2020m0129_v003-2020m0330t175804.he5\n",
      "OMI-Aura_L3-OMNO2d_2020m0130_v003-2020m0330t175758.he5\n",
      "OMI-Aura_L3-OMNO2d_2020m0131_v003-2020m0330t175802.he5\n",
      "OMI-Aura_L3-OMNO2d_2020m0201_v003-2020m0330t175752.he5\n",
      "OMI-Aura_L3-OMNO2d_2020m0202_v003-2020m0330t175757.he5\n",
      "OMI-Aura_L3-OMNO2d_2020m0203_v003-2020m0330t180305.he5\n",
      "OMI-Aura_L3-OMNO2d_2020m0204_v003-2020m0330t175753.he5\n",
      "OMI-Aura_L3-OMNO2d_2020m0205_v003-2020m0330t175803.he5\n",
      "OMI-Aura_L3-OMNO2d_2020m0206_v003-2020m0330t180307.he5\n",
      "OMI-Aura_L3-OMNO2d_2020m0207_v003-2020m0330t180823.he5\n",
      "OMI-Aura_L3-OMNO2d_2020m0208_v003-2020m0330t180814.he5\n",
      "OMI-Aura_L3-OMNO2d_2020m0209_v003-2020m0330t180402.he5\n",
      "OMI-Aura_L3-OMNO2d_2020m0210_v003-2020m0330t180348.he5\n",
      "OMI-Aura_L3-OMNO2d_2020m0211_v003-2020m0330t180349.he5\n",
      "OMI-Aura_L3-OMNO2d_2020m0212_v003-2020m0330t180311.he5\n",
      "OMI-Aura_L3-OMNO2d_2020m0213_v003-2020m0330t180826.he5\n",
      "OMI-Aura_L3-OMNO2d_2020m0214_v003-2020m0330t180836.he5\n",
      "OMI-Aura_L3-OMNO2d_2020m0215_v003-2020m0330t180824.he5\n",
      "OMI-Aura_L3-OMNO2d_2020m0216_v003-2020m0330t180835.he5\n",
      "OMI-Aura_L3-OMNO2d_2020m0217_v003-2020m0330t180816.he5\n",
      "OMI-Aura_L3-OMNO2d_2020m0218_v003-2020m0330t180807.he5\n",
      "OMI-Aura_L3-OMNO2d_2020m0219_v003-2020m0330t180814.he5\n",
      "OMI-Aura_L3-OMNO2d_2020m0220_v003-2020m0330t180812.he5\n",
      "OMI-Aura_L3-OMNO2d_2020m0221_v003-2020m0330t180816.he5\n",
      "OMI-Aura_L3-OMNO2d_2020m0222_v003-2020m0330t181342.he5\n",
      "OMI-Aura_L3-OMNO2d_2020m0223_v003-2020m0330t181342.he5\n",
      "OMI-Aura_L3-OMNO2d_2020m0224_v003-2020m0330t181346.he5\n",
      "OMI-Aura_L3-OMNO2d_2020m0225_v003-2020m0330t181346.he5\n",
      "OMI-Aura_L3-OMNO2d_2020m0226_v003-2020m0330t181915.he5\n",
      "OMI-Aura_L3-OMNO2d_2020m0227_v003-2020m0330t182507.he5\n",
      "OMI-Aura_L3-OMNO2d_2020m0228_v003-2020m0330t181342.he5\n",
      "OMI-Aura_L3-OMNO2d_2020m0229_v003-2020m0330t181342.he5\n",
      "OMI-Aura_L3-OMNO2d_2020m0301_v003-2020m0330t181913.he5\n",
      "OMI-Aura_L3-OMNO2d_2020m0302_v003-2020m0330t181915.he5\n",
      "OMI-Aura_L3-OMNO2d_2020m0303_v003-2020m0330t182443.he5\n",
      "OMI-Aura_L3-OMNO2d_2020m0304_v003-2020m0330t182429.he5\n",
      "OMI-Aura_L3-OMNO2d_2020m0305_v003-2020m0330t182619.he5\n",
      "OMI-Aura_L3-OMNO2d_2020m0306_v003-2020m0330t181915.he5\n",
      "OMI-Aura_L3-OMNO2d_2020m0307_v003-2020m0330t182433.he5\n",
      "OMI-Aura_L3-OMNO2d_2020m0308_v003-2020m0330t182450.he5\n",
      "OMI-Aura_L3-OMNO2d_2020m0309_v003-2020m0330t182443.he5\n",
      "OMI-Aura_L3-OMNO2d_2020m0310_v003-2020m0330t182440.he5\n",
      "OMI-Aura_L3-OMNO2d_2020m0311_v003-2020m0330t182945.he5\n",
      "OMI-Aura_L3-OMNO2d_2020m0312_v003-2020m0330t182944.he5\n",
      "OMI-Aura_L3-OMNO2d_2020m0313_v003-2020m0330t182949.he5\n",
      "OMI-Aura_L3-OMNO2d_2020m0314_v003-2020m0330t182940.he5\n",
      "OMI-Aura_L3-OMNO2d_2020m0315_v003-2020m0330t183459.he5\n",
      "OMI-Aura_L3-OMNO2d_2020m0316_v003-2020m0330t182941.he5\n",
      "OMI-Aura_L3-OMNO2d_2020m0317_v003-2020m0330t182941.he5\n",
      "OMI-Aura_L3-OMNO2d_2020m0318_v003-2020m0330t183456.he5\n",
      "OMI-Aura_L3-OMNO2d_2020m0319_v003-2020m0330t183453.he5\n",
      "OMI-Aura_L3-OMNO2d_2020m0320_v003-2020m0330t183549.he5\n",
      "OMI-Aura_L3-OMNO2d_2020m0321_v003-2020m0330t183451.he5\n",
      "OMI-Aura_L3-OMNO2d_2020m0322_v003-2020m0330t183646.he5\n",
      "OMI-Aura_L3-OMNO2d_2020m0323_v003-2020m0331t075305.he5\n",
      "OMI-Aura_L3-OMNO2d_2020m0324_v003-2020m0325t234332.he5\n",
      "OMI-Aura_L3-OMNO2d_2020m0325_v003-2020m0326t172749.he5\n",
      "OMI-Aura_L3-OMNO2d_2020m0326_v003-2020m0330t123810.he5\n",
      "OMI-Aura_L3-OMNO2d_2020m0327_v003-2020m0330t123806.he5\n",
      "OMI-Aura_L3-OMNO2d_2020m0328_v003-2020m0329t171504.he5\n",
      "OMI-Aura_L3-OMNO2d_2020m0329_v003-2020m0330t234234.he5\n",
      "OMI-Aura_L3-OMNO2d_2020m0330_v003-2020m0331t184142.he5\n",
      "OMI-Aura_L3-OMNO2d_2020m0331_v003-2020m0402t003844.he5\n",
      "OMI-Aura_L3-OMNO2d_2020m0401_v003-2020m0402t171734.he5\n",
      "OMI-Aura_L3-OMNO2d_2020m0402_v003-2020m0403t172311.he5\n",
      "OMI-Aura_L3-OMNO2d_2020m0403_v003-2020m0404t172303.he5\n",
      "OMI-Aura_L3-OMNO2d_2020m0404_v003-2020m0405t180653.he5\n",
      "OMI-Aura_L3-OMNO2d_2020m0405_v003-2020m0407t000732.he5\n",
      "OMI-Aura_L3-OMNO2d_2020m0406_v003-2020m0407t175754.he5\n",
      "OMI-Aura_L3-OMNO2d_2020m0407_v003-2020m0408t235524.he5\n",
      "OMI-Aura_L3-OMNO2d_2020m0408_v003-2020m0409t172735.he5\n",
      "OMI-Aura_L3-OMNO2d_2020m0409_v003-2020m0411t090823.he5\n",
      "OMI-Aura_L3-OMNO2d_2020m0410_v003-2020m0411t172329.he5\n",
      "OMI-Aura_L3-OMNO2d_2020m0411_v003-2020m0412t174024.he5\n",
      "OMI-Aura_L3-OMNO2d_2020m0412_v003-2020m0414t010729.he5\n",
      "OMI-Aura_L3-OMNO2d_2020m0413_v003-2020m0414t180618.he5\n",
      "OMI-Aura_L3-OMNO2d_2020m0414_v003-2020m0415t234012.he5\n",
      "OMI-Aura_L3-OMNO2d_2020m0415_v003-2020m0416t173702.he5\n",
      "OMI-Aura_L3-OMNO2d_2020m0416_v003-2020m0418t094004.he5\n",
      "OMI-Aura_L3-OMNO2d_2020m0417_v003-2020m0420t084642.he5\n",
      "OMI-Aura_L3-OMNO2d_2020m0418_v003-2020m0419t215644.he5\n",
      "OMI-Aura_L3-OMNO2d_2020m0419_v003-2020m0420t172819.he5\n",
      "OMI-Aura_L3-OMNO2d_2020m0420_v003-2020m0421t173235.he5\n",
      "OMI-Aura_L3-OMNO2d_2020m0421_v003-2020m0423t022109.he5\n",
      "OMI-Aura_L3-OMNO2d_2020m0422_v003-2020m0423t200715.he5\n",
      "OMI-Aura_L3-OMNO2d_2020m0423_v003-2020m0425t090429.he5\n",
      "OMI-Aura_L3-OMNO2d_2020m0424_v003-2020m0425t172736.he5\n",
      "OMI-Aura_L3-OMNO2d_2020m0425_v003-2020m0427t034023.he5\n",
      "OMI-Aura_L3-OMNO2d_2020m0426_v003-2020m0427t173029.he5\n",
      "OMI-Aura_L3-OMNO2d_2020m0427_v003-2020m0428t172457.he5\n",
      "OMI-Aura_L3-OMNO2d_2020m0428_v003-2020m0430t004146.he5\n",
      "OMI-Aura_L3-OMNO2d_2020m0429_v003-2020m0430t172120.he5\n",
      "OMI-Aura_L3-OMNO2d_2020m0430_v003-2020m0502t085106.he5\n",
      "OMI-Aura_L3-OMNO2d_2020m0501_v003-2020m0502t171633.he5\n",
      "OMI-Aura_L3-OMNO2d_2020m0502_v003-2020m0504t092201.he5\n",
      "OMI-Aura_L3-OMNO2d_2020m0503_v003-2020m0504t173547.he5\n",
      "OMI-Aura_L3-OMNO2d_2020m0504_v003-2020m0506t000019.he5\n",
      "OMI-Aura_L3-OMNO2d_2020m0505_v003-2020m0506t190441.he5\n",
      "OMI-Aura_L3-OMNO2d_2020m0506_v003-2020m0507t174404.he5\n",
      "OMI-Aura_L3-OMNO2d_2020m0507_v003-2020m0509t084913.he5\n",
      "OMI-Aura_L3-OMNO2d_2020m0508_v003-2020m0509t171717.he5\n",
      "OMI-Aura_L3-OMNO2d_2020m0509_v003-2020m0511t122736.he5\n",
      "OMI-Aura_L3-OMNO2d_2020m0510_v003-2020m0511t173912.he5\n",
      "OMI-Aura_L3-OMNO2d_2020m0511_v003-2020m0512t234852.he5\n",
      "OMI-Aura_L3-OMNO2d_2020m0512_v003-2020m0513t172500.he5\n",
      "OMI-Aura_L3-OMNO2d_2020m0513_v003-2020m0514t174805.he5\n",
      "OMI-Aura_L3-OMNO2d_2020m0514_v003-2020m0516t115701.he5\n",
      "OMI-Aura_L3-OMNO2d_2020m0515_v003-2020m0516t171828.he5\n",
      "OMI-Aura_L3-OMNO2d_2020m0516_v003-2020m0518t081843.he5\n",
      "OMI-Aura_L3-OMNO2d_2020m0517_v003-2020m0518t180713.he5\n",
      "OMI-Aura_L3-OMNO2d_2020m0518_v003-2020m0520t003149.he5\n",
      "OMI-Aura_L3-OMNO2d_2020m0519_v003-2020m0520t180146.he5\n",
      "OMI-Aura_L3-OMNO2d_2020m0520_v003-2020m0521t235806.he5\n",
      "OMI-Aura_L3-OMNO2d_2020m0521_v003-2020m0522t172505.he5\n",
      "OMI-Aura_L3-OMNO2d_2020m0522_v003-2020m0523t172714.he5\n",
      "OMI-Aura_L3-OMNO2d_2020m0523_v003-2020m0524t231415.he5\n",
      "OMI-Aura_L3-OMNO2d_2020m0524_v003-2020m0525t175013.he5\n",
      "OMI-Aura_L3-OMNO2d_2020m0525_v003-2020m0526t233426.he5\n",
      "OMI-Aura_L3-OMNO2d_2020m0526_v003-2020m0527t170946.he5\n",
      "OMI-Aura_L3-OMNO2d_2020m0527_v003-2020m0529t013329.he5\n",
      "OMI-Aura_L3-OMNO2d_2020m0528_v003-2020m0529t171427.he5\n"
     ]
    },
    {
     "name": "stdout",
     "output_type": "stream",
     "text": [
      "OMI-Aura_L3-OMNO2d_2020m0529_v003-2020m0530t173600.he5\n",
      "OMI-Aura_L3-OMNO2d_2020m0530_v003-2020m0601t082258.he5\n",
      "OMI-Aura_L3-OMNO2d_2020m0531_v003-2020m0601t173110.he5\n"
     ]
    },
    {
     "data": {
      "text/html": [
       "<div>\n",
       "<style scoped>\n",
       "    .dataframe tbody tr th:only-of-type {\n",
       "        vertical-align: middle;\n",
       "    }\n",
       "\n",
       "    .dataframe tbody tr th {\n",
       "        vertical-align: top;\n",
       "    }\n",
       "\n",
       "    .dataframe thead th {\n",
       "        text-align: right;\n",
       "    }\n",
       "</style>\n",
       "<table border=\"1\" class=\"dataframe\">\n",
       "  <thead>\n",
       "    <tr style=\"text-align: right;\">\n",
       "      <th></th>\n",
       "      <th>product_shortname</th>\n",
       "      <th>signal_name</th>\n",
       "      <th>value</th>\n",
       "      <th>year</th>\n",
       "      <th>month</th>\n",
       "      <th>day</th>\n",
       "      <th>hour</th>\n",
       "      <th>minutes</th>\n",
       "      <th>seconds</th>\n",
       "    </tr>\n",
       "  </thead>\n",
       "  <tbody>\n",
       "    <tr>\n",
       "      <th>0</th>\n",
       "      <td>OMNO2</td>\n",
       "      <td>ColumnAmountNO2TropCloudScreened</td>\n",
       "      <td>2.733088e+14</td>\n",
       "      <td>2020</td>\n",
       "      <td>01</td>\n",
       "      <td>01</td>\n",
       "      <td>17</td>\n",
       "      <td>31</td>\n",
       "      <td>00</td>\n",
       "    </tr>\n",
       "    <tr>\n",
       "      <th>1</th>\n",
       "      <td>OMNO2</td>\n",
       "      <td>ColumnAmountNO2TropCloudScreened</td>\n",
       "      <td>3.099038e+14</td>\n",
       "      <td>2020</td>\n",
       "      <td>01</td>\n",
       "      <td>02</td>\n",
       "      <td>17</td>\n",
       "      <td>36</td>\n",
       "      <td>24</td>\n",
       "    </tr>\n",
       "    <tr>\n",
       "      <th>2</th>\n",
       "      <td>OMNO2</td>\n",
       "      <td>ColumnAmountNO2TropCloudScreened</td>\n",
       "      <td>3.069800e+14</td>\n",
       "      <td>2020</td>\n",
       "      <td>01</td>\n",
       "      <td>03</td>\n",
       "      <td>17</td>\n",
       "      <td>36</td>\n",
       "      <td>24</td>\n",
       "    </tr>\n",
       "  </tbody>\n",
       "</table>\n",
       "</div>"
      ],
      "text/plain": [
       "  product_shortname                       signal_name         value  year  \\\n",
       "0             OMNO2  ColumnAmountNO2TropCloudScreened  2.733088e+14  2020   \n",
       "1             OMNO2  ColumnAmountNO2TropCloudScreened  3.099038e+14  2020   \n",
       "2             OMNO2  ColumnAmountNO2TropCloudScreened  3.069800e+14  2020   \n",
       "\n",
       "  month day hour minutes seconds  \n",
       "0    01  01   17      31      00  \n",
       "1    01  02   17      36      24  \n",
       "2    01  03   17      36      24  "
      ]
     },
     "execution_count": 55,
     "metadata": {},
     "output_type": "execute_result"
    }
   ],
   "source": [
    "st1 = create_dataframe(datadesc_OMNO2, \n",
    "                       signal_ColumnAmountNO2TropCloudScreened, \n",
    "                      split_timestamp=get_timestamp_OMANO2)\n",
    "st1.df.head(3)\n",
    "\n"
   ]
  },
  {
   "cell_type": "code",
   "execution_count": 56,
   "metadata": {},
   "outputs": [],
   "source": [
    "st1.save(\"./data\", \"OMNO2d_v2.csv\")"
   ]
  },
  {
   "cell_type": "markdown",
   "metadata": {},
   "source": [
    "\n",
    "# OMASO2 dataframe\n",
    "\n",
    "data feilds:\n",
    "\n",
    "<KeysViewHDF5 ['ColumnAmountO3', 'ColumnAmountSO2_PBL', 'Latitude', 'LineNumber', 'Longitude', 'OrbitNumber', 'PacificSectorAverage', 'RadiativeCloudFraction', 'RelativeAzimuthAngle', 'SceneNumber', 'SlantColumnAmountSO2', 'SolarZenithAngle', 'TerrainHeight', 'Time', 'ViewingZenithAngle']>\n",
    "\n",
    "documentation\n",
    "\n",
    "https://disc.gsfc.nasa.gov/datasets/OMSO2e_003/summary?keywords=ColumnAmountSO2_PBL\n",
    "\n",
    "\n",
    "Data\n",
    "\n",
    "https://acdisc.gsfc.nasa.gov/data/Aura_OMI_Level3/OMSO2e.003/\n"
   ]
  },
  {
   "cell_type": "code",
   "execution_count": 17,
   "metadata": {},
   "outputs": [],
   "source": [
    "datadesc_OMSO2 = {\"shortname\":\"OMSO2\",\n",
    "                    \"path\":\"./OMSO2\", \n",
    "                    \"datafield\":\"/HDFEOS/GRIDS/OMI Total Column Amount SO2/Data Fields\"}"
   ]
  },
  {
   "cell_type": "code",
   "execution_count": 18,
   "metadata": {},
   "outputs": [],
   "source": [
    "signal_ColumnAmountO3 = {\"name\":\"ColumnAmountO3\", \n",
    "                         \"missing_value\":-1.2676506e+30}\n",
    "\n",
    "signal_ColumnAmountSO2_PBL = {\"name\":\"ColumnAmountSO2_PBL\", \n",
    "                         \"missing_value\":-1.2676506e+30}"
   ]
  },
  {
   "cell_type": "code",
   "execution_count": 19,
   "metadata": {},
   "outputs": [
    {
     "data": {
      "text/plain": [
       "-1.2676506e+30"
      ]
     },
     "execution_count": 19,
     "metadata": {},
     "output_type": "execute_result"
    }
   ],
   "source": [
    "get_missing_Value(datadesc_OMSO2,signal_ColumnAmountSO2_PBL )"
   ]
  },
  {
   "cell_type": "code",
   "execution_count": 20,
   "metadata": {
    "scrolled": true
   },
   "outputs": [
    {
     "data": {
      "text/html": [
       "<div>\n",
       "<style scoped>\n",
       "    .dataframe tbody tr th:only-of-type {\n",
       "        vertical-align: middle;\n",
       "    }\n",
       "\n",
       "    .dataframe tbody tr th {\n",
       "        vertical-align: top;\n",
       "    }\n",
       "\n",
       "    .dataframe thead th {\n",
       "        text-align: right;\n",
       "    }\n",
       "</style>\n",
       "<table border=\"1\" class=\"dataframe\">\n",
       "  <thead>\n",
       "    <tr style=\"text-align: right;\">\n",
       "      <th></th>\n",
       "      <th>product_shortname</th>\n",
       "      <th>signal_name</th>\n",
       "      <th>value</th>\n",
       "      <th>year</th>\n",
       "      <th>month</th>\n",
       "      <th>day</th>\n",
       "      <th>hour</th>\n",
       "      <th>minutes</th>\n",
       "      <th>seconds</th>\n",
       "    </tr>\n",
       "  </thead>\n",
       "  <tbody>\n",
       "    <tr>\n",
       "      <th>0</th>\n",
       "      <td>OMSO2</td>\n",
       "      <td>ColumnAmountO3</td>\n",
       "      <td>283.909821</td>\n",
       "      <td>2020</td>\n",
       "      <td>01</td>\n",
       "      <td>03</td>\n",
       "      <td>02</td>\n",
       "      <td>12</td>\n",
       "      <td>23</td>\n",
       "    </tr>\n",
       "    <tr>\n",
       "      <th>1</th>\n",
       "      <td>OMSO2</td>\n",
       "      <td>ColumnAmountO3</td>\n",
       "      <td>282.979614</td>\n",
       "      <td>2020</td>\n",
       "      <td>01</td>\n",
       "      <td>10</td>\n",
       "      <td>02</td>\n",
       "      <td>25</td>\n",
       "      <td>36</td>\n",
       "    </tr>\n",
       "    <tr>\n",
       "      <th>2</th>\n",
       "      <td>OMSO2</td>\n",
       "      <td>ColumnAmountO3</td>\n",
       "      <td>280.916504</td>\n",
       "      <td>2020</td>\n",
       "      <td>01</td>\n",
       "      <td>20</td>\n",
       "      <td>03</td>\n",
       "      <td>23</td>\n",
       "      <td>13</td>\n",
       "    </tr>\n",
       "  </tbody>\n",
       "</table>\n",
       "</div>"
      ],
      "text/plain": [
       "  product_shortname     signal_name       value  year month day hour minutes  \\\n",
       "0             OMSO2  ColumnAmountO3  283.909821  2020    01  03   02      12   \n",
       "1             OMSO2  ColumnAmountO3  282.979614  2020    01  10   02      25   \n",
       "2             OMSO2  ColumnAmountO3  280.916504  2020    01  20   03      23   \n",
       "\n",
       "  seconds  \n",
       "0      23  \n",
       "1      36  \n",
       "2      13  "
      ]
     },
     "execution_count": 20,
     "metadata": {},
     "output_type": "execute_result"
    }
   ],
   "source": [
    "\n",
    "st7 = create_dataframe(datadesc_OMSO2, signal_ColumnAmountO3)\n",
    "st7.df.head(3)"
   ]
  },
  {
   "cell_type": "code",
   "execution_count": 21,
   "metadata": {},
   "outputs": [
    {
     "data": {
      "text/html": [
       "<div>\n",
       "<style scoped>\n",
       "    .dataframe tbody tr th:only-of-type {\n",
       "        vertical-align: middle;\n",
       "    }\n",
       "\n",
       "    .dataframe tbody tr th {\n",
       "        vertical-align: top;\n",
       "    }\n",
       "\n",
       "    .dataframe thead th {\n",
       "        text-align: right;\n",
       "    }\n",
       "</style>\n",
       "<table border=\"1\" class=\"dataframe\">\n",
       "  <thead>\n",
       "    <tr style=\"text-align: right;\">\n",
       "      <th></th>\n",
       "      <th>product_shortname</th>\n",
       "      <th>signal_name</th>\n",
       "      <th>value</th>\n",
       "      <th>year</th>\n",
       "      <th>month</th>\n",
       "      <th>day</th>\n",
       "      <th>hour</th>\n",
       "      <th>minutes</th>\n",
       "      <th>seconds</th>\n",
       "    </tr>\n",
       "  </thead>\n",
       "  <tbody>\n",
       "    <tr>\n",
       "      <th>0</th>\n",
       "      <td>OMSO2</td>\n",
       "      <td>ColumnAmountSO2_PBL</td>\n",
       "      <td>0.005539</td>\n",
       "      <td>2020</td>\n",
       "      <td>01</td>\n",
       "      <td>03</td>\n",
       "      <td>02</td>\n",
       "      <td>12</td>\n",
       "      <td>23</td>\n",
       "    </tr>\n",
       "    <tr>\n",
       "      <th>1</th>\n",
       "      <td>OMSO2</td>\n",
       "      <td>ColumnAmountSO2_PBL</td>\n",
       "      <td>0.004630</td>\n",
       "      <td>2020</td>\n",
       "      <td>01</td>\n",
       "      <td>10</td>\n",
       "      <td>02</td>\n",
       "      <td>25</td>\n",
       "      <td>36</td>\n",
       "    </tr>\n",
       "    <tr>\n",
       "      <th>2</th>\n",
       "      <td>OMSO2</td>\n",
       "      <td>ColumnAmountSO2_PBL</td>\n",
       "      <td>0.015589</td>\n",
       "      <td>2020</td>\n",
       "      <td>01</td>\n",
       "      <td>20</td>\n",
       "      <td>03</td>\n",
       "      <td>23</td>\n",
       "      <td>13</td>\n",
       "    </tr>\n",
       "  </tbody>\n",
       "</table>\n",
       "</div>"
      ],
      "text/plain": [
       "  product_shortname          signal_name     value  year month day hour  \\\n",
       "0             OMSO2  ColumnAmountSO2_PBL  0.005539  2020    01  03   02   \n",
       "1             OMSO2  ColumnAmountSO2_PBL  0.004630  2020    01  10   02   \n",
       "2             OMSO2  ColumnAmountSO2_PBL  0.015589  2020    01  20   03   \n",
       "\n",
       "  minutes seconds  \n",
       "0      12      23  \n",
       "1      25      36  \n",
       "2      23      13  "
      ]
     },
     "execution_count": 21,
     "metadata": {},
     "output_type": "execute_result"
    }
   ],
   "source": [
    "st8 = create_dataframe(datadesc_OMSO2, signal_ColumnAmountSO2_PBL)\n",
    "st8.df.head(3)"
   ]
  },
  {
   "cell_type": "code",
   "execution_count": 22,
   "metadata": {},
   "outputs": [],
   "source": [
    "st1.concat(st2)\n",
    "st1.concat(st3)\n",
    "st1.concat(st4)\n",
    "st1.concat(st5)\n",
    "st1.concat(st6)\n",
    "st1.concat(st7)\n",
    "st1.concat(st8)"
   ]
  },
  {
   "cell_type": "code",
   "execution_count": 23,
   "metadata": {},
   "outputs": [],
   "source": [
    "st1.save(\"./\", \"NASA_signals.csv\")"
   ]
  },
  {
   "cell_type": "code",
   "execution_count": 153,
   "metadata": {},
   "outputs": [
    {
     "data": {
      "text/plain": [
       "{'x0': 120, 'x1': 200, 'y0': 16, 'y1': 80}"
      ]
     },
     "execution_count": 153,
     "metadata": {},
     "output_type": "execute_result"
    }
   ],
   "source": [
    "\n",
    "locrange_grad_italy = {\"llcrnrlat\":30, \"urcrnrlat\" : 50, \"llcrnrlon\":4, \"urcrnrlon\" : 20}\n",
    "\n",
    "x0, y0= xy(locrange_grad_italy['llcrnrlat'], locrange_grad_italy['llcrnrlon'])\n",
    "x1, y1= xy(locrange_grad_italy['urcrnrlat'], locrange_grad_italy['urcrnrlon'])\n",
    "\n",
    "locrange_bbox_italy = {\"x0\":x0, \"x1\" : x1, \"y0\":y0, \"y1\" : y1}\n",
    "locrange_bbox_italy\n",
    "\n"
   ]
  },
  {
   "cell_type": "code",
   "execution_count": 152,
   "metadata": {},
   "outputs": [
    {
     "data": {
      "text/plain": [
       "('2020', '01', '02', '06', '20', '17')"
      ]
     },
     "execution_count": 152,
     "metadata": {},
     "output_type": "execute_result"
    }
   ],
   "source": [
    "get_timestamp(datafiles_OMAEROG[0])"
   ]
  },
  {
   "cell_type": "code",
   "execution_count": 448,
   "metadata": {},
   "outputs": [
    {
     "name": "stdout",
     "output_type": "stream",
     "text": [
      "<KeysViewHDF5 ['ColumnAmountO3', 'ColumnAmountSO2_PBL', 'Latitude', 'LineNumber', 'Longitude', 'OrbitNumber', 'PacificSectorAverage', 'RadiativeCloudFraction', 'RelativeAzimuthAngle', 'SceneNumber', 'SlantColumnAmountSO2', 'SolarZenithAngle', 'TerrainHeight', 'Time', 'ViewingZenithAngle']>\n"
     ]
    }
   ],
   "source": [
    "datainfo_OMSO2 = {\"type\":\"OMSO2\",\"path\":\"./OMSO2\", \"datafield\":\"/HDFEOS/GRIDS/OMI Total Column Amount SO2/Data Fields\"}\n",
    "datafiles = get_files(datainfo_OMSO2['path'])\n",
    "\n",
    "f0 = h5py.File(os.path.join(datainfo_OMSO2['path'], datafiles[0]),\"r\")\n",
    "print(f0[datainfo_OMSO2['datafield']].keys())\n",
    "dd = f0[datainfo_OMSO2['datafield']]"
   ]
  },
  {
   "cell_type": "code",
   "execution_count": 451,
   "metadata": {},
   "outputs": [
    {
     "data": {
      "text/plain": [
       "<HDF5 dataset \"ColumnAmountO3\": shape (720, 1440), type \"<f4\">"
      ]
     },
     "execution_count": 451,
     "metadata": {},
     "output_type": "execute_result"
    }
   ],
   "source": [
    "f0[datainfo_OMSO2[\"datafield\"]+\"/\"+signal_ColumnAmountO3[\"name\"]]"
   ]
  },
  {
   "cell_type": "code",
   "execution_count": 161,
   "metadata": {},
   "outputs": [],
   "source": [
    "\n",
    "r = {'type_signal': 'test1',\n",
    " 'value': '',\n",
    " 'year': '',\n",
    " 'month': '',\n",
    " 'day': '', \n",
    " 'hour': '', \n",
    " 'month': '', \n",
    " 'seconds':'',\n",
    "}\n",
    "st.add(r)"
   ]
  },
  {
   "cell_type": "code",
   "execution_count": 162,
   "metadata": {},
   "outputs": [],
   "source": [
    "st.save()"
   ]
  },
  {
   "cell_type": "markdown",
   "metadata": {},
   "source": [
    "# Test: data distribution (ex. OMAEROG)"
   ]
  },
  {
   "cell_type": "code",
   "execution_count": 40,
   "metadata": {},
   "outputs": [
    {
     "data": {
      "text/plain": [
       "'2020m0101'"
      ]
     },
     "execution_count": 40,
     "metadata": {},
     "output_type": "execute_result"
    }
   ],
   "source": [
    "p0 = datafiles[0].find(\"OMNO2d_\")+len(\"OMNO2d_\")\n",
    "p1 = datafiles[0].find(\"_\", p0+len(\"OMNO2d_\"))\n",
    "datafiles[0][p0:p1]"
   ]
  },
  {
   "cell_type": "code",
   "execution_count": 36,
   "metadata": {},
   "outputs": [
    {
     "data": {
      "text/plain": [
       "18"
      ]
     },
     "execution_count": 36,
     "metadata": {},
     "output_type": "execute_result"
    }
   ],
   "source": []
  },
  {
   "cell_type": "code",
   "execution_count": 10,
   "metadata": {},
   "outputs": [
    {
     "name": "stdout",
     "output_type": "stream",
     "text": [
      "<KeysViewHDF5 ['ColumnAmountNO2', 'ColumnAmountNO2CloudScreened', 'ColumnAmountNO2Trop', 'ColumnAmountNO2TropCloudScreened', 'Weight']>\n"
     ]
    },
    {
     "data": {
      "text/plain": [
       "<HDF5 dataset \"ColumnAmountNO2TropCloudScreened\": shape (720, 1440), type \"<f4\">"
      ]
     },
     "execution_count": 10,
     "metadata": {},
     "output_type": "execute_result"
    }
   ],
   "source": [
    "datadesc_OMNO2 = {\"shortname\":\"OMNO2\",\n",
    "                    \"path\":\"./data/OMNO2d.003/2020\", \n",
    "                    \"datafield\":\"/HDFEOS/GRIDS/ColumnAmountNO2/Data Fields/\"}\n",
    "\n",
    "signal_ColumnAmountNO2TropCloudScreened = {\"name\":\"ColumnAmountNO2TropCloudScreened\",\n",
    "                                           \"missing_value\":-1.2676506e+30}\n",
    "\n",
    "path = datadesc_OMNO2['path']\n",
    "datafield = datadesc_OMNO2['datafield']\n",
    "datafiles = get_files(path)\n",
    "\n",
    "f0 = h5py.File(os.path.join(path, datafiles[0]),\"r\")\n",
    "print(f0[datafield].keys())\n",
    "dd = f0[datafield+\"/ColumnAmountNO2TropCloudScreened\"]\n",
    "dd"
   ]
  },
  {
   "cell_type": "code",
   "execution_count": 241,
   "metadata": {
    "scrolled": true
   },
   "outputs": [
    {
     "name": "stdout",
     "output_type": "stream",
     "text": [
      "<KeysViewHDF5 ['AerosolModelMW', 'AerosolModelsPassedThreshold', 'AerosolOpticalThicknessMW', 'AerosolOpticalThicknessMWPrecision', 'AerosolOpticalThicknessPassedThresholdMean', 'AerosolOpticalThicknessPassedThresholdStd', 'CloudFlags', 'CloudPressure', 'EffectiveCloudFraction', 'GroundPixelQualityFlags', 'InstrumentConfigurationId', 'Latitude', 'LineNumber', 'Longitude', 'MeasurementQualityFlags', 'NumberOfCandidateScenes', 'NumberOfModelsPassedThreshold', 'OrbitNumber', 'PathLength', 'ProcessingQualityFlagsMW', 'RootMeanSquareErrorOfFitPassedThreshold', 'SceneNumber', 'SingleScatteringAlbedoMW', 'SingleScatteringAlbedoMWPrecision', 'SingleScatteringAlbedoPassedThresholdMean', 'SingleScatteringAlbedoPassedThresholdStd', 'SolarAzimuthAngle', 'SolarZenithAngle', 'SpacecraftAltitude', 'SpacecraftLatitude', 'SpacecraftLongitude', 'TerrainHeight', 'TerrainPressure', 'TerrainReflectivity', 'Time', 'UVAerosolIndex', 'VISAerosolIndex', 'ViewingAzimuthAngle', 'ViewingZenithAngle', 'XTrackQualityFlags']>\n"
     ]
    }
   ],
   "source": [
    "datainfo_OMAEROG = {\"type\":\"OMAEROG\",\"path\":\"./OMAEROG\", \"datafield\":\"/HDFEOS/GRIDS/ColumnAmountAerosol/Data Fields\"}\n",
    "datafiles_OMAEROG = get_files(datainfo_OMAEROG['path'])\n",
    "\n",
    "f0 = h5py.File(os.path.join(datainfo_OMAEROG['path'], datafiles_OMAEROG[0]),\"r\")\n",
    "print(f0[datainfo_OMAEROG['datafield']].keys())\n",
    "dd = f0[datainfo_OMAEROG['datafield']]"
   ]
  },
  {
   "cell_type": "code",
   "execution_count": 336,
   "metadata": {},
   "outputs": [
    {
     "data": {
      "text/plain": [
       "{'name': 'AerosolOpticalThicknessMWPrecision',\n",
       " 'missing_value': -32767,\n",
       " 'nCandidate': 15}"
      ]
     },
     "execution_count": 336,
     "metadata": {},
     "output_type": "execute_result"
    }
   ],
   "source": [
    "signal_AerosolOpticalThicknessMWPrecision = {\"name\":\"AerosolOpticalThicknessMWPrecision\", \"missing_value\":-32767, \"nCandidate\":15}\n",
    "signal_AerosolOpticalThicknessMWPrecision"
   ]
  },
  {
   "cell_type": "code",
   "execution_count": 367,
   "metadata": {},
   "outputs": [
    {
     "data": {
      "text/plain": [
       "{'name': 'AerosolModelsPassedThreshold',\n",
       " 'missing_value': -32767,\n",
       " 'nCandidate': 15}"
      ]
     },
     "execution_count": 367,
     "metadata": {},
     "output_type": "execute_result"
    }
   ],
   "source": [
    "signal_AerosolModelsPassedThreshold = {\"name\":\"AerosolModelsPassedThreshold\", \n",
    "                                             \"missing_value\":-32767, \n",
    "                                             \"nCandidate\":15,\n",
    "                                             \"nwave\":5}\n",
    "signal_AerosolModelsPassedThreshold"
   ]
  },
  {
   "cell_type": "markdown",
   "metadata": {},
   "source": [
    "# Remove background by removing missing values ( I treat satellite acquisitions like cellualr microscopy acquisitions)"
   ]
  },
  {
   "cell_type": "code",
   "execution_count": 62,
   "metadata": {},
   "outputs": [
    {
     "name": "stdout",
     "output_type": "stream",
     "text": [
      "<KeysViewHDF5 ['ColumnAmountNO2', 'ColumnAmountNO2CloudScreened', 'ColumnAmountNO2Trop', 'ColumnAmountNO2TropCloudScreened', 'Weight']>\n"
     ]
    },
    {
     "data": {
      "image/png": "[encoded data removed]",
      "text/plain": [
       "<Figure size 432x288 with 1 Axes>"
      ]
     },
     "metadata": {
      "needs_background": "light"
     },
     "output_type": "display_data"
    }
   ],
   "source": [
    "signal = signal_ColumnAmountNO2TropCloudScreened\n",
    "datadescr = datadesc_OMNO2\n",
    "\n",
    "path = datadescr['path']\n",
    "datafield = datadescr['datafield']\n",
    "datafiles = get_files(path)\n",
    "\n",
    "f0 = h5py.File(os.path.join(path, datafiles[1]),\"r\")\n",
    "print(f0[datafield].keys())\n",
    "dd = f0[datafield+\"/ColumnAmountNO2TropCloudScreened\"]\n",
    "dd\n",
    "\n",
    "dd = np.array(dd)\n",
    "ddd = dd.reshape([dd.shape[0]*dd.shape[1]])\n",
    "h = plt.hist(ddd[ddd!=signal['missing_value']], 100)\n",
    "\n",
    "\n",
    "    "
   ]
  },
  {
   "cell_type": "code",
   "execution_count": 63,
   "metadata": {},
   "outputs": [
    {
     "data": {
      "text/plain": [
       "[<matplotlib.lines.Line2D at 0x11cba4290>]"
      ]
     },
     "execution_count": 63,
     "metadata": {},
     "output_type": "execute_result"
    },
    {
     "data": {
      "image/png": "[encoded data removed]",
      "text/plain": [
       "<Figure size 432x288 with 1 Axes>"
      ]
     },
     "metadata": {
      "needs_background": "light"
     },
     "output_type": "display_data"
    }
   ],
   "source": [
    "                    plt.plot((ddd[ddd>signal['missing_value']]))"
   ]
  },
  {
   "cell_type": "code",
   "execution_count": 64,
   "metadata": {},
   "outputs": [
    {
     "name": "stderr",
     "output_type": "stream",
     "text": [
      "/usr/local/lib/python3.7/site-packages/ipykernel_launcher.py:1: RuntimeWarning: invalid value encountered in log\n",
      "  \"\"\"Entry point for launching an IPython kernel.\n"
     ]
    },
    {
     "data": {
      "text/plain": [
       "[<matplotlib.lines.Line2D at 0x11cd4dd90>]"
      ]
     },
     "execution_count": 64,
     "metadata": {},
     "output_type": "execute_result"
    },
    {
     "data": {
      "image/png": "[encoded data removed]",
      "text/plain": [
       "<Figure size 432x288 with 1 Axes>"
      ]
     },
     "metadata": {
      "needs_background": "light"
     },
     "output_type": "display_data"
    }
   ],
   "source": [
    "        plt.plot(np.log(ddd[ddd>signal['missing_value']]))"
   ]
  },
  {
   "cell_type": "code",
   "execution_count": 57,
   "metadata": {},
   "outputs": [
    {
     "data": {
      "text/plain": [
       "-6543130000000000.0"
      ]
     },
     "execution_count": 57,
     "metadata": {},
     "output_type": "execute_result"
    }
   ],
   "source": [
    "np.min(ddd[ddd>signal['missing_value']])"
   ]
  },
  {
   "cell_type": "code",
   "execution_count": 58,
   "metadata": {},
   "outputs": [
    {
     "data": {
      "text/plain": [
       "4.6955387e+16"
      ]
     },
     "execution_count": 58,
     "metadata": {},
     "output_type": "execute_result"
    }
   ],
   "source": [
    "np.max(ddd[ddd>signal['missing_value']])\n"
   ]
  },
  {
   "cell_type": "code",
   "execution_count": 77,
   "metadata": {},
   "outputs": [
    {
     "data": {
      "text/html": [
       "<div>\n",
       "<style scoped>\n",
       "    .dataframe tbody tr th:only-of-type {\n",
       "        vertical-align: middle;\n",
       "    }\n",
       "\n",
       "    .dataframe tbody tr th {\n",
       "        vertical-align: top;\n",
       "    }\n",
       "\n",
       "    .dataframe thead th {\n",
       "        text-align: right;\n",
       "    }\n",
       "</style>\n",
       "<table border=\"1\" class=\"dataframe\">\n",
       "  <thead>\n",
       "    <tr style=\"text-align: right;\">\n",
       "      <th></th>\n",
       "      <th>product_shortname</th>\n",
       "      <th>signal_name</th>\n",
       "      <th>value</th>\n",
       "      <th>year</th>\n",
       "      <th>month</th>\n",
       "      <th>day</th>\n",
       "      <th>hour</th>\n",
       "      <th>minutes</th>\n",
       "      <th>seconds</th>\n",
       "    </tr>\n",
       "  </thead>\n",
       "  <tbody>\n",
       "    <tr>\n",
       "      <th>0</th>\n",
       "      <td>OMNO2</td>\n",
       "      <td>ColumnAmountNO2TropCloudScreened</td>\n",
       "      <td>2.733088e+14</td>\n",
       "      <td>2020</td>\n",
       "      <td>1</td>\n",
       "      <td>1</td>\n",
       "      <td>17</td>\n",
       "      <td>31</td>\n",
       "      <td>0</td>\n",
       "    </tr>\n",
       "    <tr>\n",
       "      <th>1</th>\n",
       "      <td>OMNO2</td>\n",
       "      <td>ColumnAmountNO2TropCloudScreened</td>\n",
       "      <td>3.099038e+14</td>\n",
       "      <td>2020</td>\n",
       "      <td>1</td>\n",
       "      <td>2</td>\n",
       "      <td>17</td>\n",
       "      <td>36</td>\n",
       "      <td>24</td>\n",
       "    </tr>\n",
       "    <tr>\n",
       "      <th>2</th>\n",
       "      <td>OMNO2</td>\n",
       "      <td>ColumnAmountNO2TropCloudScreened</td>\n",
       "      <td>3.069800e+14</td>\n",
       "      <td>2020</td>\n",
       "      <td>1</td>\n",
       "      <td>3</td>\n",
       "      <td>17</td>\n",
       "      <td>36</td>\n",
       "      <td>24</td>\n",
       "    </tr>\n",
       "    <tr>\n",
       "      <th>3</th>\n",
       "      <td>OMNO2</td>\n",
       "      <td>ColumnAmountNO2TropCloudScreened</td>\n",
       "      <td>3.066134e+14</td>\n",
       "      <td>2020</td>\n",
       "      <td>1</td>\n",
       "      <td>4</td>\n",
       "      <td>17</td>\n",
       "      <td>36</td>\n",
       "      <td>31</td>\n",
       "    </tr>\n",
       "    <tr>\n",
       "      <th>4</th>\n",
       "      <td>OMNO2</td>\n",
       "      <td>ColumnAmountNO2TropCloudScreened</td>\n",
       "      <td>2.445533e+14</td>\n",
       "      <td>2020</td>\n",
       "      <td>1</td>\n",
       "      <td>5</td>\n",
       "      <td>17</td>\n",
       "      <td>41</td>\n",
       "      <td>58</td>\n",
       "    </tr>\n",
       "  </tbody>\n",
       "</table>\n",
       "</div>"
      ],
      "text/plain": [
       "  product_shortname                       signal_name         value  year  \\\n",
       "0             OMNO2  ColumnAmountNO2TropCloudScreened  2.733088e+14  2020   \n",
       "1             OMNO2  ColumnAmountNO2TropCloudScreened  3.099038e+14  2020   \n",
       "2             OMNO2  ColumnAmountNO2TropCloudScreened  3.069800e+14  2020   \n",
       "3             OMNO2  ColumnAmountNO2TropCloudScreened  3.066134e+14  2020   \n",
       "4             OMNO2  ColumnAmountNO2TropCloudScreened  2.445533e+14  2020   \n",
       "\n",
       "   month  day  hour  minutes  seconds  \n",
       "0      1    1    17       31        0  \n",
       "1      1    2    17       36       24  \n",
       "2      1    3    17       36       24  \n",
       "3      1    4    17       36       31  \n",
       "4      1    5    17       41       58  "
      ]
     },
     "execution_count": 77,
     "metadata": {},
     "output_type": "execute_result"
    }
   ],
   "source": [
    "df1 = pd.read_csv(\"/Users/rempicon/Google_Drive/MYCODE/PRJ/GIT/SpaceAppsCOVIDChallenge/data/OMNO2d_v2.csv\")\n",
    "df1.head()"
   ]
  },
  {
   "cell_type": "code",
   "execution_count": 78,
   "metadata": {},
   "outputs": [
    {
     "data": {
      "text/plain": [
       "[<matplotlib.lines.Line2D at 0x127fd5ed0>]"
      ]
     },
     "execution_count": 78,
     "metadata": {},
     "output_type": "execute_result"
    },
    {
     "data": {
      "image/png": "[encoded data removed]",
      "text/plain": [
       "<Figure size 432x288 with 1 Axes>"
      ]
     },
     "metadata": {
      "needs_background": "light"
     },
     "output_type": "display_data"
    }
   ],
   "source": [
    "\n",
    "plt.plot(df1.value)"
   ]
  },
  {
   "cell_type": "code",
   "execution_count": 80,
   "metadata": {},
   "outputs": [
    {
     "data": {
      "text/plain": [
       "244553256796160.0"
      ]
     },
     "execution_count": 80,
     "metadata": {},
     "output_type": "execute_result"
    }
   ],
   "source": [
    "np.min(df1.value)"
   ]
  },
  {
   "cell_type": "code",
   "execution_count": 81,
   "metadata": {},
   "outputs": [
    {
     "data": {
      "text/plain": [
       "370121893740544.0"
      ]
     },
     "execution_count": 81,
     "metadata": {},
     "output_type": "execute_result"
    }
   ],
   "source": [
    "np.max(df1.value)"
   ]
  },
  {
   "cell_type": "markdown",
   "metadata": {},
   "source": [
    "# Statistics "
   ]
  },
  {
   "cell_type": "code",
   "execution_count": null,
   "metadata": {},
   "outputs": [],
   "source": []
  },
  {
   "cell_type": "code",
   "execution_count": null,
   "metadata": {},
   "outputs": [],
   "source": []
  },
  {
   "cell_type": "code",
   "execution_count": null,
   "metadata": {},
   "outputs": [],
   "source": []
  },
  {
   "cell_type": "code",
   "execution_count": 307,
   "metadata": {},
   "outputs": [
    {
     "name": "stdout",
     "output_type": "stream",
     "text": [
      "<HDF5 dataset \"CloudPressure\": shape (15, 720, 1440), type \"<f4\">\n"
     ]
    }
   ],
   "source": [
    "print(f0[datainfo_OMAEROG['datafield']+\"/CloudPressure\"])\n",
    "dd= f0[datainfo_OMAEROG['datafield']+\"/CloudPressure\"]"
   ]
  },
  {
   "cell_type": "code",
   "execution_count": 313,
   "metadata": {},
   "outputs": [
    {
     "name": "stdout",
     "output_type": "stream",
     "text": [
      "<HDF5 dataset \"AerosolOpticalThicknessMWPrecision\": shape (15, 720, 1440), type \"<i2\">\n"
     ]
    }
   ],
   "source": []
  },
  {
   "cell_type": "code",
   "execution_count": 314,
   "metadata": {},
   "outputs": [
    {
     "data": {
      "image/png": "[encoded data removed]",
      "text/plain": [
       "<Figure size 432x288 with 1 Axes>"
      ]
     },
     "metadata": {
      "needs_background": "light"
     },
     "output_type": "display_data"
    }
   ],
   "source": [
    "dd = np.array(dd)\n",
    "ddd = dd.reshape([dd.shape[0]*dd.shape[1]*dd.shape[2]])\n",
    "h = plt.hist(ddd, 100)"
   ]
  },
  {
   "cell_type": "code",
   "execution_count": 324,
   "metadata": {},
   "outputs": [
    {
     "data": {
      "text/plain": [
       "(array([2.07069e+05, 2.99300e+03, 9.94000e+02, 3.55000e+02, 1.94000e+02,\n",
       "        1.03000e+02, 8.60000e+01, 9.40000e+01, 9.10000e+01, 6.10000e+01]),\n",
       " array([    0. ,  3275.1,  6550.2,  9825.3, 13100.4, 16375.5, 19650.6,\n",
       "        22925.7, 26200.8, 29475.9, 32751. ]),\n",
       " <a list of 10 Patch objects>)"
      ]
     },
     "execution_count": 324,
     "metadata": {},
     "output_type": "execute_result"
    },
    {
     "data": {
      "image/png": "[encoded data removed]",
      "text/plain": [
       "<Figure size 432x288 with 1 Axes>"
      ]
     },
     "metadata": {
      "needs_background": "light"
     },
     "output_type": "display_data"
    }
   ],
   "source": [
    "plt.hist(ddd[ddd>-32767])"
   ]
  },
  {
   "cell_type": "code",
   "execution_count": 319,
   "metadata": {},
   "outputs": [
    {
     "data": {
      "text/plain": [
       "32751"
      ]
     },
     "execution_count": 319,
     "metadata": {},
     "output_type": "execute_result"
    }
   ],
   "source": [
    "np.max(ddd[ddd>-32767])"
   ]
  },
  {
   "cell_type": "code",
   "execution_count": 309,
   "metadata": {},
   "outputs": [
    {
     "data": {
      "image/png": "[encoded data removed]",
      "text/plain": [
       "<Figure size 432x288 with 1 Axes>"
      ]
     },
     "metadata": {
      "needs_background": "light"
     },
     "output_type": "display_data"
    }
   ],
   "source": [
    "dd2 =  np.array(dd) \n",
    "ddd2 = dd2.reshape([dd2.shape[0]*dd2.shape[1]*dd2.shape[2]])\n",
    "h = plt.hist(ddd2, 100)\n"
   ]
  },
  {
   "cell_type": "code",
   "execution_count": 312,
   "metadata": {},
   "outputs": [
    {
     "data": {
      "text/plain": [
       "[<matplotlib.lines.Line2D at 0x12b26b790>]"
      ]
     },
     "execution_count": 312,
     "metadata": {},
     "output_type": "execute_result"
    },
    {
     "data": {
      "image/png": "[encoded data removed]",
      "text/plain": [
       "<Figure size 432x288 with 1 Axes>"
      ]
     },
     "metadata": {
      "needs_background": "light"
     },
     "output_type": "display_data"
    }
   ],
   "source": [
    "plt.plot(ddd2[ddd2>-1.2676506e+30])"
   ]
  },
  {
   "cell_type": "code",
   "execution_count": 294,
   "metadata": {},
   "outputs": [
    {
     "name": "stderr",
     "output_type": "stream",
     "text": [
      "/usr/local/lib/python3.7/site-packages/ipykernel_launcher.py:1: RuntimeWarning: invalid value encountered in log\n",
      "  \"\"\"Entry point for launching an IPython kernel.\n"
     ]
    },
    {
     "data": {
      "text/plain": [
       "461.36197"
      ]
     },
     "execution_count": 294,
     "metadata": {},
     "output_type": "execute_result"
    }
   ],
   "source": [
    "np.exp(np.nanmean(np.log(ddd+1)))"
   ]
  },
  {
   "cell_type": "code",
   "execution_count": 219,
   "metadata": {},
   "outputs": [
    {
     "data": {
      "text/plain": [
       "[<matplotlib.lines.Line2D at 0x127869bd0>]"
      ]
     },
     "execution_count": 219,
     "metadata": {},
     "output_type": "execute_result"
    },
    {
     "data": {
      "image/png": "[encoded data removed]",
      "text/plain": [
       "<Figure size 432x288 with 1 Axes>"
      ]
     },
     "metadata": {
      "needs_background": "light"
     },
     "output_type": "display_data"
    }
   ],
   "source": [
    "m_03 = get_stats(datainfo_OMAEROG, \"/CloudPressure\", datafiles_OMAEROG)\n",
    "plt.plot(m_03)"
   ]
  },
  {
   "cell_type": "code",
   "execution_count": 236,
   "metadata": {},
   "outputs": [
    {
     "data": {
      "text/plain": [
       "[<matplotlib.lines.Line2D at 0x12bf75cd0>]"
      ]
     },
     "execution_count": 236,
     "metadata": {},
     "output_type": "execute_result"
    },
    {
     "data": {
      "image/png": "[encoded data removed]",
      "text/plain": [
       "<Figure size 432x288 with 1 Axes>"
      ]
     },
     "metadata": {
      "needs_background": "light"
     },
     "output_type": "display_data"
    }
   ],
   "source": [
    "m_03 = get_stats(datainfo_OMAEROG, \"/CloudPressure\", datafiles_OMAEROG, index=12,stat=np.mean)\n",
    "plt.plot(m_03)"
   ]
  },
  {
   "cell_type": "code",
   "execution_count": 91,
   "metadata": {},
   "outputs": [
    {
     "data": {
      "text/plain": [
       "[<matplotlib.lines.Line2D at 0x1221e67d0>]"
      ]
     },
     "execution_count": 91,
     "metadata": {},
     "output_type": "execute_result"
    },
    {
     "data": {
      "image/png": "[encoded data removed]",
      "text/plain": [
       "<Figure size 432x288 with 1 Axes>"
      ]
     },
     "metadata": {
      "needs_background": "light"
     },
     "output_type": "display_data"
    }
   ],
   "source": [
    "m_03 = get_stats(datainfo_OMAEROG, \"/AerosolOpticalThicknessMW\", datafiles_OMAEROG)\n",
    "plt.plot(m_03)"
   ]
  },
  {
   "cell_type": "code",
   "execution_count": 86,
   "metadata": {},
   "outputs": [
    {
     "data": {
      "text/plain": [
       "'/HDFEOS/GRIDS/ColumnAmountNO2/Data Fields/ColumnAmountNO2TropCloudScreened'"
      ]
     },
     "execution_count": 86,
     "metadata": {},
     "output_type": "execute_result"
    }
   ],
   "source": [
    "dfn"
   ]
  },
  {
   "cell_type": "code",
   "execution_count": 84,
   "metadata": {},
   "outputs": [
    {
     "name": "stdout",
     "output_type": "stream",
     "text": [
      "<KeysViewHDF5 ['HDFEOS', 'HDFEOS INFORMATION']>\n"
     ]
    },
    {
     "ename": "ValueError",
     "evalue": "not enough values to unpack (expected 2, got 1)",
     "output_type": "error",
     "traceback": [
      "\u001b[0;31m---------------------------------------------------------------------------\u001b[0m",
      "\u001b[0;31mValueError\u001b[0m                                Traceback (most recent call last)",
      "\u001b[0;32m<ipython-input-84-85b980ceb3e8>\u001b[0m in \u001b[0;36m<module>\u001b[0;34m\u001b[0m\n\u001b[1;32m      3\u001b[0m \u001b[0mloc\u001b[0m \u001b[0;34m=\u001b[0m \u001b[0mlocation_range_italy\u001b[0m\u001b[0;34m\u001b[0m\u001b[0;34m\u001b[0m\u001b[0m\n\u001b[1;32m      4\u001b[0m \u001b[0;34m\u001b[0m\u001b[0m\n\u001b[0;32m----> 5\u001b[0;31m \u001b[0mshow_map\u001b[0m\u001b[0;34m(\u001b[0m\u001b[0mfn\u001b[0m\u001b[0;34m,\u001b[0m \u001b[0mdfn\u001b[0m\u001b[0;34m,\u001b[0m \u001b[0mloc\u001b[0m\u001b[0;34m)\u001b[0m\u001b[0;34m\u001b[0m\u001b[0;34m\u001b[0m\u001b[0m\n\u001b[0m",
      "\u001b[0;32m<ipython-input-73-437ab505d748>\u001b[0m in \u001b[0;36mshow_map\u001b[0;34m(FILE_NAME, DATAFIELD_NAME, loc)\u001b[0m\n\u001b[1;32m     80\u001b[0m \u001b[0;34m\u001b[0m\u001b[0m\n\u001b[1;32m     81\u001b[0m \u001b[0;34m\u001b[0m\u001b[0m\n\u001b[0;32m---> 82\u001b[0;31m         \u001b[0maaa\u001b[0m \u001b[0;34m=\u001b[0m \u001b[0mm\u001b[0m\u001b[0;34m.\u001b[0m\u001b[0mpcolormesh\u001b[0m\u001b[0;34m(\u001b[0m\u001b[0mlongitude\u001b[0m\u001b[0;34m,\u001b[0m \u001b[0mlatitude\u001b[0m\u001b[0;34m,\u001b[0m \u001b[0mdata\u001b[0m\u001b[0;34m,\u001b[0m \u001b[0mlatlon\u001b[0m\u001b[0;34m=\u001b[0m\u001b[0;32mTrue\u001b[0m\u001b[0;34m)\u001b[0m\u001b[0;34m\u001b[0m\u001b[0;34m\u001b[0m\u001b[0m\n\u001b[0m\u001b[1;32m     83\u001b[0m         \u001b[0mcb\u001b[0m \u001b[0;34m=\u001b[0m \u001b[0mm\u001b[0m\u001b[0;34m.\u001b[0m\u001b[0mcolorbar\u001b[0m\u001b[0;34m(\u001b[0m\u001b[0;34m)\u001b[0m\u001b[0;34m\u001b[0m\u001b[0;34m\u001b[0m\u001b[0m\n\u001b[1;32m     84\u001b[0m         \u001b[0mcb\u001b[0m\u001b[0;34m.\u001b[0m\u001b[0mset_label\u001b[0m\u001b[0;34m(\u001b[0m\u001b[0munits\u001b[0m\u001b[0;34m)\u001b[0m\u001b[0;34m\u001b[0m\u001b[0;34m\u001b[0m\u001b[0m\n",
      "\u001b[0;32m/usr/local/lib/python3.7/site-packages/mpl_toolkits/basemap/__init__.py\u001b[0m in \u001b[0;36mwith_transform\u001b[0;34m(self, x, y, data, *args, **kwargs)\u001b[0m\n\u001b[1;32m    545\u001b[0m             \u001b[0;31m# convert lat/lon coords to map projection coords.\u001b[0m\u001b[0;34m\u001b[0m\u001b[0;34m\u001b[0m\u001b[0;34m\u001b[0m\u001b[0m\n\u001b[1;32m    546\u001b[0m             \u001b[0mx\u001b[0m\u001b[0;34m,\u001b[0m \u001b[0my\u001b[0m \u001b[0;34m=\u001b[0m \u001b[0mself\u001b[0m\u001b[0;34m(\u001b[0m\u001b[0mx\u001b[0m\u001b[0;34m,\u001b[0m\u001b[0my\u001b[0m\u001b[0;34m)\u001b[0m\u001b[0;34m\u001b[0m\u001b[0;34m\u001b[0m\u001b[0m\n\u001b[0;32m--> 547\u001b[0;31m         \u001b[0;32mreturn\u001b[0m \u001b[0mplotfunc\u001b[0m\u001b[0;34m(\u001b[0m\u001b[0mself\u001b[0m\u001b[0;34m,\u001b[0m\u001b[0mx\u001b[0m\u001b[0;34m,\u001b[0m\u001b[0my\u001b[0m\u001b[0;34m,\u001b[0m\u001b[0mdata\u001b[0m\u001b[0;34m,\u001b[0m\u001b[0;34m*\u001b[0m\u001b[0margs\u001b[0m\u001b[0;34m,\u001b[0m\u001b[0;34m**\u001b[0m\u001b[0mkwargs\u001b[0m\u001b[0;34m)\u001b[0m\u001b[0;34m\u001b[0m\u001b[0;34m\u001b[0m\u001b[0m\n\u001b[0m\u001b[1;32m    548\u001b[0m     \u001b[0;32mreturn\u001b[0m \u001b[0mwith_transform\u001b[0m\u001b[0;34m\u001b[0m\u001b[0;34m\u001b[0m\u001b[0m\n\u001b[1;32m    549\u001b[0m \u001b[0;34m\u001b[0m\u001b[0m\n",
      "\u001b[0;32m/usr/local/lib/python3.7/site-packages/mpl_toolkits/basemap/__init__.py\u001b[0m in \u001b[0;36mpcolormesh\u001b[0;34m(self, x, y, data, **kwargs)\u001b[0m\n\u001b[1;32m   3429\u001b[0m         \u001b[0mself\u001b[0m\u001b[0;34m.\u001b[0m\u001b[0m_save_use_hold\u001b[0m\u001b[0;34m(\u001b[0m\u001b[0max\u001b[0m\u001b[0;34m,\u001b[0m \u001b[0mkwargs\u001b[0m\u001b[0;34m)\u001b[0m\u001b[0;34m\u001b[0m\u001b[0;34m\u001b[0m\u001b[0m\n\u001b[1;32m   3430\u001b[0m         \u001b[0;32mtry\u001b[0m\u001b[0;34m:\u001b[0m\u001b[0;34m\u001b[0m\u001b[0;34m\u001b[0m\u001b[0m\n\u001b[0;32m-> 3431\u001b[0;31m             \u001b[0mret\u001b[0m \u001b[0;34m=\u001b[0m  \u001b[0max\u001b[0m\u001b[0;34m.\u001b[0m\u001b[0mpcolormesh\u001b[0m\u001b[0;34m(\u001b[0m\u001b[0mx\u001b[0m\u001b[0;34m,\u001b[0m\u001b[0my\u001b[0m\u001b[0;34m,\u001b[0m\u001b[0mdata\u001b[0m\u001b[0;34m,\u001b[0m\u001b[0;34m**\u001b[0m\u001b[0mkwargs\u001b[0m\u001b[0;34m)\u001b[0m\u001b[0;34m\u001b[0m\u001b[0;34m\u001b[0m\u001b[0m\n\u001b[0m\u001b[1;32m   3432\u001b[0m         \u001b[0;32mfinally\u001b[0m\u001b[0;34m:\u001b[0m\u001b[0;34m\u001b[0m\u001b[0;34m\u001b[0m\u001b[0m\n\u001b[1;32m   3433\u001b[0m             \u001b[0mself\u001b[0m\u001b[0;34m.\u001b[0m\u001b[0m_restore_hold\u001b[0m\u001b[0;34m(\u001b[0m\u001b[0max\u001b[0m\u001b[0;34m)\u001b[0m\u001b[0;34m\u001b[0m\u001b[0;34m\u001b[0m\u001b[0m\n",
      "\u001b[0;32m/usr/local/lib/python3.7/site-packages/matplotlib/__init__.py\u001b[0m in \u001b[0;36minner\u001b[0;34m(ax, data, *args, **kwargs)\u001b[0m\n\u001b[1;32m   1599\u001b[0m     \u001b[0;32mdef\u001b[0m \u001b[0minner\u001b[0m\u001b[0;34m(\u001b[0m\u001b[0max\u001b[0m\u001b[0;34m,\u001b[0m \u001b[0;34m*\u001b[0m\u001b[0margs\u001b[0m\u001b[0;34m,\u001b[0m \u001b[0mdata\u001b[0m\u001b[0;34m=\u001b[0m\u001b[0;32mNone\u001b[0m\u001b[0;34m,\u001b[0m \u001b[0;34m**\u001b[0m\u001b[0mkwargs\u001b[0m\u001b[0;34m)\u001b[0m\u001b[0;34m:\u001b[0m\u001b[0;34m\u001b[0m\u001b[0;34m\u001b[0m\u001b[0m\n\u001b[1;32m   1600\u001b[0m         \u001b[0;32mif\u001b[0m \u001b[0mdata\u001b[0m \u001b[0;32mis\u001b[0m \u001b[0;32mNone\u001b[0m\u001b[0;34m:\u001b[0m\u001b[0;34m\u001b[0m\u001b[0;34m\u001b[0m\u001b[0m\n\u001b[0;32m-> 1601\u001b[0;31m             \u001b[0;32mreturn\u001b[0m \u001b[0mfunc\u001b[0m\u001b[0;34m(\u001b[0m\u001b[0max\u001b[0m\u001b[0;34m,\u001b[0m \u001b[0;34m*\u001b[0m\u001b[0mmap\u001b[0m\u001b[0;34m(\u001b[0m\u001b[0msanitize_sequence\u001b[0m\u001b[0;34m,\u001b[0m \u001b[0margs\u001b[0m\u001b[0;34m)\u001b[0m\u001b[0;34m,\u001b[0m \u001b[0;34m**\u001b[0m\u001b[0mkwargs\u001b[0m\u001b[0;34m)\u001b[0m\u001b[0;34m\u001b[0m\u001b[0;34m\u001b[0m\u001b[0m\n\u001b[0m\u001b[1;32m   1602\u001b[0m \u001b[0;34m\u001b[0m\u001b[0m\n\u001b[1;32m   1603\u001b[0m         \u001b[0mbound\u001b[0m \u001b[0;34m=\u001b[0m \u001b[0mnew_sig\u001b[0m\u001b[0;34m.\u001b[0m\u001b[0mbind\u001b[0m\u001b[0;34m(\u001b[0m\u001b[0max\u001b[0m\u001b[0;34m,\u001b[0m \u001b[0;34m*\u001b[0m\u001b[0margs\u001b[0m\u001b[0;34m,\u001b[0m \u001b[0;34m**\u001b[0m\u001b[0mkwargs\u001b[0m\u001b[0;34m)\u001b[0m\u001b[0;34m\u001b[0m\u001b[0;34m\u001b[0m\u001b[0m\n",
      "\u001b[0;32m/usr/local/lib/python3.7/site-packages/matplotlib/axes/_axes.py\u001b[0m in \u001b[0;36mpcolormesh\u001b[0;34m(self, alpha, norm, cmap, vmin, vmax, shading, antialiased, *args, **kwargs)\u001b[0m\n\u001b[1;32m   6155\u001b[0m         \u001b[0mallmatch\u001b[0m \u001b[0;34m=\u001b[0m \u001b[0;34m(\u001b[0m\u001b[0mshading\u001b[0m \u001b[0;34m==\u001b[0m \u001b[0;34m'gouraud'\u001b[0m\u001b[0;34m)\u001b[0m\u001b[0;34m\u001b[0m\u001b[0;34m\u001b[0m\u001b[0m\n\u001b[1;32m   6156\u001b[0m \u001b[0;34m\u001b[0m\u001b[0m\n\u001b[0;32m-> 6157\u001b[0;31m         \u001b[0mX\u001b[0m\u001b[0;34m,\u001b[0m \u001b[0mY\u001b[0m\u001b[0;34m,\u001b[0m \u001b[0mC\u001b[0m \u001b[0;34m=\u001b[0m \u001b[0mself\u001b[0m\u001b[0;34m.\u001b[0m\u001b[0m_pcolorargs\u001b[0m\u001b[0;34m(\u001b[0m\u001b[0;34m'pcolormesh'\u001b[0m\u001b[0;34m,\u001b[0m \u001b[0;34m*\u001b[0m\u001b[0margs\u001b[0m\u001b[0;34m,\u001b[0m \u001b[0mallmatch\u001b[0m\u001b[0;34m=\u001b[0m\u001b[0mallmatch\u001b[0m\u001b[0;34m)\u001b[0m\u001b[0;34m\u001b[0m\u001b[0;34m\u001b[0m\u001b[0m\n\u001b[0m\u001b[1;32m   6158\u001b[0m         \u001b[0mNy\u001b[0m\u001b[0;34m,\u001b[0m \u001b[0mNx\u001b[0m \u001b[0;34m=\u001b[0m \u001b[0mX\u001b[0m\u001b[0;34m.\u001b[0m\u001b[0mshape\u001b[0m\u001b[0;34m\u001b[0m\u001b[0;34m\u001b[0m\u001b[0m\n\u001b[1;32m   6159\u001b[0m         \u001b[0mX\u001b[0m \u001b[0;34m=\u001b[0m \u001b[0mX\u001b[0m\u001b[0;34m.\u001b[0m\u001b[0mravel\u001b[0m\u001b[0;34m(\u001b[0m\u001b[0;34m)\u001b[0m\u001b[0;34m\u001b[0m\u001b[0;34m\u001b[0m\u001b[0m\n",
      "\u001b[0;32m/usr/local/lib/python3.7/site-packages/matplotlib/axes/_axes.py\u001b[0m in \u001b[0;36m_pcolorargs\u001b[0;34m(funcname, allmatch, *args)\u001b[0m\n\u001b[1;32m   5724\u001b[0m                 \u001b[0;32mif\u001b[0m \u001b[0misinstance\u001b[0m\u001b[0;34m(\u001b[0m\u001b[0mY\u001b[0m\u001b[0;34m,\u001b[0m \u001b[0mnp\u001b[0m\u001b[0;34m.\u001b[0m\u001b[0mma\u001b[0m\u001b[0;34m.\u001b[0m\u001b[0mcore\u001b[0m\u001b[0;34m.\u001b[0m\u001b[0mMaskedArray\u001b[0m\u001b[0;34m)\u001b[0m\u001b[0;34m:\u001b[0m\u001b[0;34m\u001b[0m\u001b[0;34m\u001b[0m\u001b[0m\n\u001b[1;32m   5725\u001b[0m                     \u001b[0mY\u001b[0m \u001b[0;34m=\u001b[0m \u001b[0mY\u001b[0m\u001b[0;34m.\u001b[0m\u001b[0mdata\u001b[0m\u001b[0;34m\u001b[0m\u001b[0;34m\u001b[0m\u001b[0m\n\u001b[0;32m-> 5726\u001b[0;31m             \u001b[0mnumRows\u001b[0m\u001b[0;34m,\u001b[0m \u001b[0mnumCols\u001b[0m \u001b[0;34m=\u001b[0m \u001b[0mC\u001b[0m\u001b[0;34m.\u001b[0m\u001b[0mshape\u001b[0m\u001b[0;34m\u001b[0m\u001b[0;34m\u001b[0m\u001b[0m\n\u001b[0m\u001b[1;32m   5727\u001b[0m         \u001b[0;32melse\u001b[0m\u001b[0;34m:\u001b[0m\u001b[0;34m\u001b[0m\u001b[0;34m\u001b[0m\u001b[0m\n\u001b[1;32m   5728\u001b[0m             raise TypeError(\n",
      "\u001b[0;31mValueError\u001b[0m: not enough values to unpack (expected 2, got 1)"
     ]
    },
    {
     "data": {
      "image/png": "[encoded data removed]",
      "text/plain": [
       "<Figure size 1080x1080 with 1 Axes>"
      ]
     },
     "metadata": {},
     "output_type": "display_data"
    }
   ],
   "source": [
    "fn = os.path.join(datadescr['path'], datafiles[0])\n",
    "dfn = datadescr['datafield']+\"/ColumnAmountNO2TropCloudScreened\"\n",
    "loc = location_range_italy\n",
    "\n",
    "show_map(fn, dfn, loc)\n"
   ]
  },
  {
   "cell_type": "markdown",
   "metadata": {},
   "source": [
    "\n",
    "\n",
    "\n",
    "\n",
    "\n",
    "\n",
    "\n",
    "\n",
    "\n",
    "\n",
    "\n",
    "\n",
    "\n",
    "\n",
    "\n",
    "\n",
    "\n",
    "\n",
    "\n",
    "\n",
    "\n",
    "\n",
    "\n",
    "\n",
    "\n",
    "\n",
    "\n",
    "# OMSO2"
   ]
  },
  {
   "cell_type": "code",
   "execution_count": 237,
   "metadata": {},
   "outputs": [
    {
     "name": "stdout",
     "output_type": "stream",
     "text": [
      "<KeysViewHDF5 ['ColumnAmountO3', 'ColumnAmountSO2_PBL', 'Latitude', 'LineNumber', 'Longitude', 'OrbitNumber', 'PacificSectorAverage', 'RadiativeCloudFraction', 'RelativeAzimuthAngle', 'SceneNumber', 'SlantColumnAmountSO2', 'SolarZenithAngle', 'TerrainHeight', 'Time', 'ViewingZenithAngle']>\n"
     ]
    }
   ],
   "source": [
    "datainfo_omso2 = {\"path\":\"./OMSO2\", \"datafield\":\"/HDFEOS/GRIDS/OMI Total Column Amount SO2/Data Fields/\"}\n",
    "datafiles_omso2 = get_files(dataloc_omso2['path'])\n",
    "\n",
    "f0 = h5py.File(os.path.join(datainfo_omso2['path'], datafiles_omso2[0]),\"r\")\n",
    "print(f0[datainfo_omso2['datafield']].keys())"
   ]
  },
  {
   "cell_type": "code",
   "execution_count": 239,
   "metadata": {},
   "outputs": [
    {
     "name": "stdout",
     "output_type": "stream",
     "text": [
      "<HDF5 dataset \"SlantColumnAmountSO2\": shape (720, 1440), type \"<f4\">\n"
     ]
    }
   ],
   "source": [
    "print(f0[datainfo_omso2['datafield']+\"/SlantColumnAmountSO2\"])\n",
    "dd = f0[datainfo_omso2['datafield']+\"/SlantColumnAmountSO2\"]"
   ]
  },
  {
   "cell_type": "code",
   "execution_count": 240,
   "metadata": {},
   "outputs": [
    {
     "data": {
      "text/plain": [
       "array([-1.2676506e+30, -1.2676506e+30, -1.2676506e+30, ...,\n",
       "       -1.2676506e+30, -1.2676506e+30, -1.2676506e+30], dtype=float32)"
      ]
     },
     "execution_count": 240,
     "metadata": {},
     "output_type": "execute_result"
    }
   ],
   "source": [
    "dd[0]"
   ]
  },
  {
   "cell_type": "code",
   "execution_count": 56,
   "metadata": {},
   "outputs": [
    {
     "data": {
      "text/plain": [
       "[<matplotlib.lines.Line2D at 0x11a807dd0>]"
      ]
     },
     "execution_count": 56,
     "metadata": {},
     "output_type": "execute_result"
    },
    {
     "data": {
      "image/png": "[encoded data removed]",
      "text/plain": [
       "<Figure size 432x288 with 1 Axes>"
      ]
     },
     "metadata": {
      "needs_background": "light"
     },
     "output_type": "display_data"
    }
   ],
   "source": [
    "\n",
    "\n",
    "\n",
    "#location_range_italy = {\"llcrnrlat\":30, \"urcrnrlat\" : 50, \"llcrnrlon\":4, \"urcrnrlon\" : 20}\n",
    "#location_range_all = {\"llcrnrlat\":-90, \"urcrnrlat\" : 90, \"llcrnrlon\":-180, \"urcrnrlon\" : 180}\n",
    "\n",
    "\n",
    "m_03 = get_stats(datainfo_omso2, \"/ColumnAmountO3\", datafiles_omso2)\n",
    "plt.plot(m_03)\n",
    "\n",
    "m_so2pbl = get_stats(datainfo_omso2, \"/ColumnAmountSO2_PBL\", datafiles_omso2)\n",
    "plt.plot(m_so2pbl)\n",
    "\n"
   ]
  },
  {
   "cell_type": "code",
   "execution_count": 60,
   "metadata": {},
   "outputs": [
    {
     "data": {
      "text/plain": [
       "[<matplotlib.lines.Line2D at 0x11a91c610>]"
      ]
     },
     "execution_count": 60,
     "metadata": {},
     "output_type": "execute_result"
    },
    {
     "data": {
      "image/png": "[encoded data removed]",
      "text/plain": [
       "<Figure size 432x288 with 1 Axes>"
      ]
     },
     "metadata": {
      "needs_background": "light"
     },
     "output_type": "display_data"
    }
   ],
   "source": [
    "m_3 = get_stats(datainfo_omso2, \"/RelativeAzimuthAngle\", datafiles_omso2)\n",
    "plt.plot(m_3)"
   ]
  },
  {
   "cell_type": "code",
   "execution_count": 126,
   "metadata": {},
   "outputs": [
    {
     "data": {
      "text/plain": [
       "[<matplotlib.lines.Line2D at 0x135ed37d0>]"
      ]
     },
     "execution_count": 126,
     "metadata": {},
     "output_type": "execute_result"
    },
    {
     "data": {
      "image/png": "[encoded data removed]",
      "text/plain": [
       "<Figure size 432x288 with 1 Axes>"
      ]
     },
     "metadata": {
      "needs_background": "light"
     },
     "output_type": "display_data"
    }
   ],
   "source": [
    "out = []\n",
    "for f in data_files:\n",
    "    out.append(get_stats(os.path.join(data_info['path'], f), data_info['datafield']+\"/SlantColumnAmountSO2\", location_range_all))\n",
    "       \n",
    "\n",
    "plt.plot(out,'.')"
   ]
  },
  {
   "cell_type": "code",
   "execution_count": 110,
   "metadata": {},
   "outputs": [
    {
     "data": {
      "text/plain": [
       "[<matplotlib.lines.Line2D at 0x133ad90d0>]"
      ]
     },
     "execution_count": 110,
     "metadata": {},
     "output_type": "execute_result"
    },
    {
     "data": {
      "image/png": "[encoded data removed]",
      "text/plain": [
       "<Figure size 432x288 with 1 Axes>"
      ]
     },
     "metadata": {
      "needs_background": "light"
     },
     "output_type": "display_data"
    }
   ],
   "source": []
  },
  {
   "cell_type": "markdown",
   "metadata": {},
   "source": [
    "# info\n",
    "\n",
    "Each file contains daily data from approximately 15 orbits\n",
    "\n",
    "to dowload data\n",
    "https://disc.gsfc.nasa.gov/information/howto?title=How%20to%20Download%20Data%20Files%20from%20HTTPS%20Service%20with%20wget\n"
   ]
  },
  {
   "cell_type": "code",
   "execution_count": 92,
   "metadata": {},
   "outputs": [
    {
     "name": "stdout",
     "output_type": "stream",
     "text": [
      "<KeysViewHDF5 ['OMI Total Column Amount SO2']>\n"
     ]
    },
    {
     "ename": "KeyError",
     "evalue": "'Unable to open object (component not found)'",
     "output_type": "error",
     "traceback": [
      "\u001b[0;31m---------------------------------------------------------------------------\u001b[0m",
      "\u001b[0;31mKeyError\u001b[0m                                  Traceback (most recent call last)",
      "\u001b[0;32m<ipython-input-92-29e5fa7c6c39>\u001b[0m in \u001b[0;36m<module>\u001b[0;34m\u001b[0m\n\u001b[1;32m      1\u001b[0m \u001b[0ma\u001b[0m\u001b[0;34m.\u001b[0m\u001b[0mkeys\u001b[0m\u001b[0;34m(\u001b[0m\u001b[0;34m)\u001b[0m\u001b[0;34m\u001b[0m\u001b[0;34m\u001b[0m\u001b[0m\n\u001b[1;32m      2\u001b[0m \u001b[0mprint\u001b[0m\u001b[0;34m(\u001b[0m\u001b[0ma\u001b[0m\u001b[0;34m[\u001b[0m\u001b[0;34m'/HDFEOS/GRIDS/'\u001b[0m\u001b[0;34m]\u001b[0m\u001b[0;34m.\u001b[0m\u001b[0mkeys\u001b[0m\u001b[0;34m(\u001b[0m\u001b[0;34m)\u001b[0m\u001b[0;34m)\u001b[0m\u001b[0;34m\u001b[0m\u001b[0;34m\u001b[0m\u001b[0m\n\u001b[0;32m----> 3\u001b[0;31m \u001b[0mprint\u001b[0m\u001b[0;34m(\u001b[0m\u001b[0ma\u001b[0m\u001b[0;34m[\u001b[0m\u001b[0;34m'/HDFEOS/GRIDS/ColumnAmountAerosol/Data Fields/'\u001b[0m\u001b[0;34m]\u001b[0m\u001b[0;34m.\u001b[0m\u001b[0mkeys\u001b[0m\u001b[0;34m(\u001b[0m\u001b[0;34m)\u001b[0m\u001b[0;34m)\u001b[0m\u001b[0;34m\u001b[0m\u001b[0;34m\u001b[0m\u001b[0m\n\u001b[0m",
      "\u001b[0;32mh5py/_objects.pyx\u001b[0m in \u001b[0;36mh5py._objects.with_phil.wrapper\u001b[0;34m()\u001b[0m\n",
      "\u001b[0;32mh5py/_objects.pyx\u001b[0m in \u001b[0;36mh5py._objects.with_phil.wrapper\u001b[0;34m()\u001b[0m\n",
      "\u001b[0;32m/usr/local/lib/python3.7/site-packages/h5py/_hl/group.py\u001b[0m in \u001b[0;36m__getitem__\u001b[0;34m(self, name)\u001b[0m\n\u001b[1;32m    262\u001b[0m                 \u001b[0;32mraise\u001b[0m \u001b[0mValueError\u001b[0m\u001b[0;34m(\u001b[0m\u001b[0;34m\"Invalid HDF5 object reference\"\u001b[0m\u001b[0;34m)\u001b[0m\u001b[0;34m\u001b[0m\u001b[0;34m\u001b[0m\u001b[0m\n\u001b[1;32m    263\u001b[0m         \u001b[0;32melse\u001b[0m\u001b[0;34m:\u001b[0m\u001b[0;34m\u001b[0m\u001b[0;34m\u001b[0m\u001b[0m\n\u001b[0;32m--> 264\u001b[0;31m             \u001b[0moid\u001b[0m \u001b[0;34m=\u001b[0m \u001b[0mh5o\u001b[0m\u001b[0;34m.\u001b[0m\u001b[0mopen\u001b[0m\u001b[0;34m(\u001b[0m\u001b[0mself\u001b[0m\u001b[0;34m.\u001b[0m\u001b[0mid\u001b[0m\u001b[0;34m,\u001b[0m \u001b[0mself\u001b[0m\u001b[0;34m.\u001b[0m\u001b[0m_e\u001b[0m\u001b[0;34m(\u001b[0m\u001b[0mname\u001b[0m\u001b[0;34m)\u001b[0m\u001b[0;34m,\u001b[0m \u001b[0mlapl\u001b[0m\u001b[0;34m=\u001b[0m\u001b[0mself\u001b[0m\u001b[0;34m.\u001b[0m\u001b[0m_lapl\u001b[0m\u001b[0;34m)\u001b[0m\u001b[0;34m\u001b[0m\u001b[0;34m\u001b[0m\u001b[0m\n\u001b[0m\u001b[1;32m    265\u001b[0m \u001b[0;34m\u001b[0m\u001b[0m\n\u001b[1;32m    266\u001b[0m         \u001b[0motype\u001b[0m \u001b[0;34m=\u001b[0m \u001b[0mh5i\u001b[0m\u001b[0;34m.\u001b[0m\u001b[0mget_type\u001b[0m\u001b[0;34m(\u001b[0m\u001b[0moid\u001b[0m\u001b[0;34m)\u001b[0m\u001b[0;34m\u001b[0m\u001b[0;34m\u001b[0m\u001b[0m\n",
      "\u001b[0;32mh5py/_objects.pyx\u001b[0m in \u001b[0;36mh5py._objects.with_phil.wrapper\u001b[0;34m()\u001b[0m\n",
      "\u001b[0;32mh5py/_objects.pyx\u001b[0m in \u001b[0;36mh5py._objects.with_phil.wrapper\u001b[0;34m()\u001b[0m\n",
      "\u001b[0;32mh5py/h5o.pyx\u001b[0m in \u001b[0;36mh5py.h5o.open\u001b[0;34m()\u001b[0m\n",
      "\u001b[0;31mKeyError\u001b[0m: 'Unable to open object (component not found)'"
     ]
    }
   ],
   "source": [
    "a.keys()\n",
    "print(a['/HDFEOS/GRIDS/'].keys())\n",
    "print(a['/HDFEOS/GRIDS/ColumnAmountAerosol/Data Fields/'].keys())"
   ]
  },
  {
   "cell_type": "code",
   "execution_count": 57,
   "metadata": {},
   "outputs": [
    {
     "name": "stdout",
     "output_type": "stream",
     "text": [
      "<KeysViewHDF5 ['OMI Total Column Amount SO2']>\n"
     ]
    },
    {
     "ename": "KeyError",
     "evalue": "'Unable to open object (component not found)'",
     "output_type": "error",
     "traceback": [
      "\u001b[0;31m---------------------------------------------------------------------------\u001b[0m",
      "\u001b[0;31mKeyError\u001b[0m                                  Traceback (most recent call last)",
      "\u001b[0;32m<ipython-input-57-6bd5778f9d18>\u001b[0m in \u001b[0;36m<module>\u001b[0;34m\u001b[0m\n\u001b[1;32m      2\u001b[0m \u001b[0ma\u001b[0m\u001b[0;34m.\u001b[0m\u001b[0mkeys\u001b[0m\u001b[0;34m(\u001b[0m\u001b[0;34m)\u001b[0m\u001b[0;34m\u001b[0m\u001b[0;34m\u001b[0m\u001b[0m\n\u001b[1;32m      3\u001b[0m \u001b[0mprint\u001b[0m\u001b[0;34m(\u001b[0m\u001b[0ma\u001b[0m\u001b[0;34m[\u001b[0m\u001b[0;34m'/HDFEOS/GRIDS/'\u001b[0m\u001b[0;34m]\u001b[0m\u001b[0;34m.\u001b[0m\u001b[0mkeys\u001b[0m\u001b[0;34m(\u001b[0m\u001b[0;34m)\u001b[0m\u001b[0;34m)\u001b[0m\u001b[0;34m\u001b[0m\u001b[0;34m\u001b[0m\u001b[0m\n\u001b[0;32m----> 4\u001b[0;31m \u001b[0mprint\u001b[0m\u001b[0;34m(\u001b[0m\u001b[0ma\u001b[0m\u001b[0;34m[\u001b[0m\u001b[0;34m'/HDFEOS/GRIDS/ColumnAmountNO2/Data Fields/'\u001b[0m\u001b[0;34m]\u001b[0m\u001b[0;34m.\u001b[0m\u001b[0mkeys\u001b[0m\u001b[0;34m(\u001b[0m\u001b[0;34m)\u001b[0m\u001b[0;34m)\u001b[0m\u001b[0;34m\u001b[0m\u001b[0;34m\u001b[0m\u001b[0m\n\u001b[0m",
      "\u001b[0;32mh5py/_objects.pyx\u001b[0m in \u001b[0;36mh5py._objects.with_phil.wrapper\u001b[0;34m()\u001b[0m\n",
      "\u001b[0;32mh5py/_objects.pyx\u001b[0m in \u001b[0;36mh5py._objects.with_phil.wrapper\u001b[0;34m()\u001b[0m\n",
      "\u001b[0;32m/usr/local/lib/python3.7/site-packages/h5py/_hl/group.py\u001b[0m in \u001b[0;36m__getitem__\u001b[0;34m(self, name)\u001b[0m\n\u001b[1;32m    262\u001b[0m                 \u001b[0;32mraise\u001b[0m \u001b[0mValueError\u001b[0m\u001b[0;34m(\u001b[0m\u001b[0;34m\"Invalid HDF5 object reference\"\u001b[0m\u001b[0;34m)\u001b[0m\u001b[0;34m\u001b[0m\u001b[0;34m\u001b[0m\u001b[0m\n\u001b[1;32m    263\u001b[0m         \u001b[0;32melse\u001b[0m\u001b[0;34m:\u001b[0m\u001b[0;34m\u001b[0m\u001b[0;34m\u001b[0m\u001b[0m\n\u001b[0;32m--> 264\u001b[0;31m             \u001b[0moid\u001b[0m \u001b[0;34m=\u001b[0m \u001b[0mh5o\u001b[0m\u001b[0;34m.\u001b[0m\u001b[0mopen\u001b[0m\u001b[0;34m(\u001b[0m\u001b[0mself\u001b[0m\u001b[0;34m.\u001b[0m\u001b[0mid\u001b[0m\u001b[0;34m,\u001b[0m \u001b[0mself\u001b[0m\u001b[0;34m.\u001b[0m\u001b[0m_e\u001b[0m\u001b[0;34m(\u001b[0m\u001b[0mname\u001b[0m\u001b[0;34m)\u001b[0m\u001b[0;34m,\u001b[0m \u001b[0mlapl\u001b[0m\u001b[0;34m=\u001b[0m\u001b[0mself\u001b[0m\u001b[0;34m.\u001b[0m\u001b[0m_lapl\u001b[0m\u001b[0;34m)\u001b[0m\u001b[0;34m\u001b[0m\u001b[0;34m\u001b[0m\u001b[0m\n\u001b[0m\u001b[1;32m    265\u001b[0m \u001b[0;34m\u001b[0m\u001b[0m\n\u001b[1;32m    266\u001b[0m         \u001b[0motype\u001b[0m \u001b[0;34m=\u001b[0m \u001b[0mh5i\u001b[0m\u001b[0;34m.\u001b[0m\u001b[0mget_type\u001b[0m\u001b[0;34m(\u001b[0m\u001b[0moid\u001b[0m\u001b[0;34m)\u001b[0m\u001b[0;34m\u001b[0m\u001b[0;34m\u001b[0m\u001b[0m\n",
      "\u001b[0;32mh5py/_objects.pyx\u001b[0m in \u001b[0;36mh5py._objects.with_phil.wrapper\u001b[0;34m()\u001b[0m\n",
      "\u001b[0;32mh5py/_objects.pyx\u001b[0m in \u001b[0;36mh5py._objects.with_phil.wrapper\u001b[0;34m()\u001b[0m\n",
      "\u001b[0;32mh5py/h5o.pyx\u001b[0m in \u001b[0;36mh5py.h5o.open\u001b[0;34m()\u001b[0m\n",
      "\u001b[0;31mKeyError\u001b[0m: 'Unable to open object (component not found)'"
     ]
    }
   ],
   "source": [
    "#NO2\n",
    "a.keys()\n",
    "print(a['/HDFEOS/GRIDS/'].keys())\n",
    "print(a['/HDFEOS/GRIDS/ColumnAmountNO2/Data Fields/'].keys())"
   ]
  },
  {
   "cell_type": "code",
   "execution_count": 61,
   "metadata": {},
   "outputs": [
    {
     "name": "stdout",
     "output_type": "stream",
     "text": [
      "<KeysViewHDF5 ['HDFEOS', 'HDFEOS INFORMATION']>\n",
      "<KeysViewHDF5 ['OMI Total Column Amount SO2']>\n",
      "<KeysViewHDF5 ['ColumnAmountO3', 'ColumnAmountSO2_PBL', 'Latitude', 'LineNumber', 'Longitude', 'OrbitNumber', 'PacificSectorAverage', 'RadiativeCloudFraction', 'RelativeAzimuthAngle', 'SceneNumber', 'SlantColumnAmountSO2', 'SolarZenithAngle', 'TerrainHeight', 'Time', 'ViewingZenithAngle']>\n"
     ]
    }
   ],
   "source": [
    "#NO2\n",
    "print(a.keys())\n",
    "print(a['/HDFEOS/GRIDS'].keys())\n",
    "print(a['/HDFEOS/GRIDS/OMI Total Column Amount SO2/Data Fields/'].keys())"
   ]
  },
  {
   "cell_type": "code",
   "execution_count": 62,
   "metadata": {},
   "outputs": [
    {
     "name": "stdout",
     "output_type": "stream",
     "text": [
      "(720, 1440)\n"
     ]
    }
   ],
   "source": [
    "d = a['/HDFEOS/GRIDS/OMI Total Column Amount SO2/Data Fields/ColumnAmountO3']\n",
    "print(d.shape)\n"
   ]
  },
  {
   "cell_type": "code",
   "execution_count": 63,
   "metadata": {},
   "outputs": [
    {
     "ename": "NameError",
     "evalue": "name 'title' is not defined",
     "output_type": "error",
     "traceback": [
      "\u001b[0;31m---------------------------------------------------------------------------\u001b[0m",
      "\u001b[0;31mNameError\u001b[0m                                 Traceback (most recent call last)",
      "\u001b[0;32m<ipython-input-63-eee3914a8eb9>\u001b[0m in \u001b[0;36m<module>\u001b[0;34m\u001b[0m\n\u001b[0;32m----> 1\u001b[0;31m \u001b[0mtitle\u001b[0m\u001b[0;34m\u001b[0m\u001b[0;34m\u001b[0m\u001b[0m\n\u001b[0m",
      "\u001b[0;31mNameError\u001b[0m: name 'title' is not defined"
     ]
    }
   ],
   "source": [
    "title"
   ]
  },
  {
   "cell_type": "code",
   "execution_count": 64,
   "metadata": {},
   "outputs": [],
   "source": [
    "location_range_italy = {\"llcrnrlat\":30, \"urcrnrlat\" : 50, \"llcrnrlon\":4, \"urcrnrlon\" : 20}\n",
    "location_range_all = {\"llcrnrlat\":-90, \"urcrnrlat\" : 90, \"llcrnrlon\":-180, \"urcrnrlon\" : 180}\n"
   ]
  },
  {
   "cell_type": "code",
   "execution_count": 65,
   "metadata": {},
   "outputs": [
    {
     "ename": "NameError",
     "evalue": "name 'FILE_NAME' is not defined",
     "output_type": "error",
     "traceback": [
      "\u001b[0;31m---------------------------------------------------------------------------\u001b[0m",
      "\u001b[0;31mNameError\u001b[0m                                 Traceback (most recent call last)",
      "\u001b[0;32m<ipython-input-65-72b54fdf0fde>\u001b[0m in \u001b[0;36m<module>\u001b[0;34m\u001b[0m\n\u001b[0;32m----> 1\u001b[0;31m \u001b[0mFILE_NAME\u001b[0m\u001b[0;34m\u001b[0m\u001b[0;34m\u001b[0m\u001b[0m\n\u001b[0m",
      "\u001b[0;31mNameError\u001b[0m: name 'FILE_NAME' is not defined"
     ]
    }
   ],
   "source": [
    "FILE_NAME"
   ]
  },
  {
   "cell_type": "code",
   "execution_count": 68,
   "metadata": {},
   "outputs": [
    {
     "name": "stdout",
     "output_type": "stream",
     "text": [
      "<KeysViewHDF5 ['HDFEOS', 'HDFEOS INFORMATION']>\n"
     ]
    },
    {
     "data": {
      "image/png": "[encoded data removed]",
      "text/plain": [
       "<Figure size 1080x1080 with 2 Axes>"
      ]
     },
     "metadata": {
      "needs_background": "light"
     },
     "output_type": "display_data"
    }
   ],
   "source": [
    "\n",
    "location_range_italy = {\"llcrnrlat\":30, \"urcrnrlat\" : 50, \"llcrnrlon\":4, \"urcrnrlon\" : 20}\n",
    "location_range_all = {\"llcrnrlat\":-90, \"urcrnrlat\" : 90, \"llcrnrlon\":-180, \"urcrnrlon\" : 180}\n",
    "\n",
    "\n",
    "# Open file.\n",
    "FILE_NAME = os.path.join(datainfo_omso2['path'], datafiles_omso2[3])\n",
    "DATAFIELD_NAME = datainfo_omso2['datafield']+\"/ColumnAmountO3\"\n",
    "loc = location_range_all\n",
    "fig = plt.figure(figsize=[15,15])\n",
    "with h5py.File(FILE_NAME, mode='r') as f:\n",
    "    # List available datasets.\n",
    "    print(f.keys())\n",
    "\n",
    "    # Read dataset.\n",
    "    dset = f[DATAFIELD_NAME]\n",
    "    data = dset[:]\n",
    "\n",
    "    # Handle fill value.\n",
    "    #data[data == dset.fillvalue] = np.nan\n",
    "    #data = np.ma.masked_where(np.isnan(data), data)\n",
    "\n",
    "    # Get attributes needed for the plot.\n",
    "    # String attributes actually come in as the bytes type and should\n",
    "    # be decoded to UTF-8 (python3).\n",
    "    title = dset.attrs['Title'].decode()\n",
    "    units = dset.attrs['Units'].decode()\n",
    "    \n",
    "    longitude = np.arange(0., 1440.0) * 0.25 - 180 + 0.125\n",
    "    latitude = np.arange(0., 720.0) * 0.25 - 90 + 0.125\n",
    "    \n",
    "    #m = Basemap(projection='cyl', resolution='l', llcrnrlat=-90, urcrnrlat = 90, llcrnrlon=-180, urcrnrlon = 180)\n",
    "    m = Basemap(projection='cyl', \n",
    "                resolution='l', \n",
    "                llcrnrlat=loc[\"llcrnrlat\"], \n",
    "                urcrnrlat = loc[\"urcrnrlat\"], \n",
    "                llcrnrlon=loc[\"llcrnrlon\"], \n",
    "                urcrnrlon = loc[\"urcrnrlon\"])\n",
    "    \n",
    "    m.drawcoastlines(linewidth=3)\n",
    "    m.drawparallels(np.arange(-90., 120., 30.), labels=[1, 0, 0, 0])\n",
    "    m.drawmeridians(np.arange(-180., 181., 45.), labels=[0, 0, 0, 1])\n",
    "    #x, y = m(longitude, latitude,)\n",
    "    \n",
    "\n",
    "    aaa = m.pcolormesh(longitude, latitude, data, latlon=True)\n",
    "    cb = m.colorbar()\n",
    "    cb.set_label(units)"
   ]
  },
  {
   "cell_type": "code",
   "execution_count": 49,
   "metadata": {},
   "outputs": [
    {
     "data": {
      "image/png": "[encoded data removed]",
      "text/plain": [
       "<Figure size 432x288 with 1 Axes>"
      ]
     },
     "metadata": {
      "needs_background": "light"
     },
     "output_type": "display_data"
    }
   ],
   "source": [
    "pl = plt.plot(data)"
   ]
  },
  {
   "cell_type": "code",
   "execution_count": 51,
   "metadata": {},
   "outputs": [
    {
     "data": {
      "text/plain": [
       "array([0, 0, 0, ..., 0, 0, 0], dtype=int32)"
      ]
     },
     "execution_count": 51,
     "metadata": {},
     "output_type": "execute_result"
    }
   ],
   "source": [
    "data[0]"
   ]
  },
  {
   "cell_type": "code",
   "execution_count": 12,
   "metadata": {},
   "outputs": [
    {
     "data": {
      "text/plain": [
       "<HDF5 group \"/HDFEOS\" (2 members)>"
      ]
     },
     "execution_count": 12,
     "metadata": {},
     "output_type": "execute_result"
    }
   ],
   "source": [
    "a['HDFEOS']"
   ]
  },
  {
   "cell_type": "code",
   "execution_count": 4,
   "metadata": {},
   "outputs": [
    {
     "ename": "OSError",
     "evalue": "Unable to open file (file signature not found)",
     "output_type": "error",
     "traceback": [
      "\u001b[0;31m---------------------------------------------------------------------------\u001b[0m",
      "\u001b[0;31mOSError\u001b[0m                                   Traceback (most recent call last)",
      "\u001b[0;32m<ipython-input-4-3dc43a9ed3af>\u001b[0m in \u001b[0;36m<module>\u001b[0;34m\u001b[0m\n\u001b[0;32m----> 1\u001b[0;31m \u001b[0;32mwith\u001b[0m \u001b[0mh5py\u001b[0m\u001b[0;34m.\u001b[0m\u001b[0mFile\u001b[0m\u001b[0;34m(\u001b[0m\u001b[0;34m'a.hdf'\u001b[0m\u001b[0;34m,\u001b[0m \u001b[0;34m'r'\u001b[0m\u001b[0;34m)\u001b[0m \u001b[0;32mas\u001b[0m \u001b[0mf\u001b[0m\u001b[0;34m:\u001b[0m\u001b[0;34m\u001b[0m\u001b[0;34m\u001b[0m\u001b[0m\n\u001b[0m\u001b[1;32m      2\u001b[0m     \u001b[0mdata\u001b[0m \u001b[0;34m=\u001b[0m \u001b[0mf\u001b[0m\u001b[0;34m[\u001b[0m\u001b[0;34m'default'\u001b[0m\u001b[0;34m]\u001b[0m\u001b[0;34m\u001b[0m\u001b[0;34m\u001b[0m\u001b[0m\n\u001b[1;32m      3\u001b[0m \u001b[0;34m\u001b[0m\u001b[0m\n",
      "\u001b[0;32m/usr/local/lib/python3.7/site-packages/h5py/_hl/files.py\u001b[0m in \u001b[0;36m__init__\u001b[0;34m(self, name, mode, driver, libver, userblock_size, swmr, rdcc_nslots, rdcc_nbytes, rdcc_w0, track_order, **kwds)\u001b[0m\n\u001b[1;32m    406\u001b[0m                 fid = make_fid(name, mode, userblock_size,\n\u001b[1;32m    407\u001b[0m                                \u001b[0mfapl\u001b[0m\u001b[0;34m,\u001b[0m \u001b[0mfcpl\u001b[0m\u001b[0;34m=\u001b[0m\u001b[0mmake_fcpl\u001b[0m\u001b[0;34m(\u001b[0m\u001b[0mtrack_order\u001b[0m\u001b[0;34m=\u001b[0m\u001b[0mtrack_order\u001b[0m\u001b[0;34m)\u001b[0m\u001b[0;34m,\u001b[0m\u001b[0;34m\u001b[0m\u001b[0;34m\u001b[0m\u001b[0m\n\u001b[0;32m--> 408\u001b[0;31m                                swmr=swmr)\n\u001b[0m\u001b[1;32m    409\u001b[0m \u001b[0;34m\u001b[0m\u001b[0m\n\u001b[1;32m    410\u001b[0m             \u001b[0;32mif\u001b[0m \u001b[0misinstance\u001b[0m\u001b[0;34m(\u001b[0m\u001b[0mlibver\u001b[0m\u001b[0;34m,\u001b[0m \u001b[0mtuple\u001b[0m\u001b[0;34m)\u001b[0m\u001b[0;34m:\u001b[0m\u001b[0;34m\u001b[0m\u001b[0;34m\u001b[0m\u001b[0m\n",
      "\u001b[0;32m/usr/local/lib/python3.7/site-packages/h5py/_hl/files.py\u001b[0m in \u001b[0;36mmake_fid\u001b[0;34m(name, mode, userblock_size, fapl, fcpl, swmr)\u001b[0m\n\u001b[1;32m    171\u001b[0m         \u001b[0;32mif\u001b[0m \u001b[0mswmr\u001b[0m \u001b[0;32mand\u001b[0m \u001b[0mswmr_support\u001b[0m\u001b[0;34m:\u001b[0m\u001b[0;34m\u001b[0m\u001b[0;34m\u001b[0m\u001b[0m\n\u001b[1;32m    172\u001b[0m             \u001b[0mflags\u001b[0m \u001b[0;34m|=\u001b[0m \u001b[0mh5f\u001b[0m\u001b[0;34m.\u001b[0m\u001b[0mACC_SWMR_READ\u001b[0m\u001b[0;34m\u001b[0m\u001b[0;34m\u001b[0m\u001b[0m\n\u001b[0;32m--> 173\u001b[0;31m         \u001b[0mfid\u001b[0m \u001b[0;34m=\u001b[0m \u001b[0mh5f\u001b[0m\u001b[0;34m.\u001b[0m\u001b[0mopen\u001b[0m\u001b[0;34m(\u001b[0m\u001b[0mname\u001b[0m\u001b[0;34m,\u001b[0m \u001b[0mflags\u001b[0m\u001b[0;34m,\u001b[0m \u001b[0mfapl\u001b[0m\u001b[0;34m=\u001b[0m\u001b[0mfapl\u001b[0m\u001b[0;34m)\u001b[0m\u001b[0;34m\u001b[0m\u001b[0;34m\u001b[0m\u001b[0m\n\u001b[0m\u001b[1;32m    174\u001b[0m     \u001b[0;32melif\u001b[0m \u001b[0mmode\u001b[0m \u001b[0;34m==\u001b[0m \u001b[0;34m'r+'\u001b[0m\u001b[0;34m:\u001b[0m\u001b[0;34m\u001b[0m\u001b[0;34m\u001b[0m\u001b[0m\n\u001b[1;32m    175\u001b[0m         \u001b[0mfid\u001b[0m \u001b[0;34m=\u001b[0m \u001b[0mh5f\u001b[0m\u001b[0;34m.\u001b[0m\u001b[0mopen\u001b[0m\u001b[0;34m(\u001b[0m\u001b[0mname\u001b[0m\u001b[0;34m,\u001b[0m \u001b[0mh5f\u001b[0m\u001b[0;34m.\u001b[0m\u001b[0mACC_RDWR\u001b[0m\u001b[0;34m,\u001b[0m \u001b[0mfapl\u001b[0m\u001b[0;34m=\u001b[0m\u001b[0mfapl\u001b[0m\u001b[0;34m)\u001b[0m\u001b[0;34m\u001b[0m\u001b[0;34m\u001b[0m\u001b[0m\n",
      "\u001b[0;32mh5py/_objects.pyx\u001b[0m in \u001b[0;36mh5py._objects.with_phil.wrapper\u001b[0;34m()\u001b[0m\n",
      "\u001b[0;32mh5py/_objects.pyx\u001b[0m in \u001b[0;36mh5py._objects.with_phil.wrapper\u001b[0;34m()\u001b[0m\n",
      "\u001b[0;32mh5py/h5f.pyx\u001b[0m in \u001b[0;36mh5py.h5f.open\u001b[0;34m()\u001b[0m\n",
      "\u001b[0;31mOSError\u001b[0m: Unable to open file (file signature not found)"
     ]
    }
   ],
   "source": [
    "with h5py.File('a.hdf', 'r') as f:  \n",
    "    data = f['default'] \n",
    "    "
   ]
  },
  {
   "cell_type": "code",
   "execution_count": 1,
   "metadata": {},
   "outputs": [],
   "source": [
    "# Set the URL string to point to a specific data URL. Some generic examples are:\n",
    "   #   https://servername/data/path/file\n",
    "   #   https://servername/opendap/path/file[.format[?subset]]\n",
    "   #   https://servername/daac-bin/OTF/HTTP_services.cgi?KEYWORD=value[&KEYWORD=value]\n",
    "URL = 'https://acdisc.gesdisc.eosdis.nasa.gov/daac-bin/OTF/HTTP_services.cgi?FILENAME=%2Fdata%2FAura_OMI_Level2G%2FOMAEROG.003%2F2019%2FOMI-Aura_L2G-OMAEROG_2019m1201_v003-2019m1202t062554.he5&FORMAT=aGU1Lw&BBOX=43.77%2C7.614%2C46.406%2C13.151&TIME=2019-12-01T08%3A00%3A00%2F2019-12-01T12%3A00%3A00&LABEL=OMI-Aura_L2G-OMAEROG_2019m1201_v003-2019m1202t062554.SUB.he5&FLAGS=GRIDTYPE__GRID&SHORTNAME=OMAEROG&SERVICE=SUBSET_LEVEL2&VERSION=1.02&DATASET_VERSION=003'\n",
    "   \n",
    "# Set the FILENAME string to the data file name, the LABEL keyword value, or any customized name. \n",
    "   \n",
    "import requests\n",
    "result = requests.get(URL)\n"
   ]
  },
  {
   "cell_type": "code",
   "execution_count": 2,
   "metadata": {},
   "outputs": [
    {
     "data": {
      "text/plain": [
       "<Response [401]>"
      ]
     },
     "execution_count": 2,
     "metadata": {},
     "output_type": "execute_result"
    }
   ],
   "source": [
    "result"
   ]
  },
  {
   "cell_type": "code",
   "execution_count": null,
   "metadata": {},
   "outputs": [],
   "source": [
    "try:\n",
    "    result.raise_for_status()\n",
    "    f = open(FILENAME,'wb')\n",
    "    f.write(result.content)\n",
    "    f.close()\n",
    "    print('contents of URL written to '+FILENAME)\n",
    "except:\n",
    "      print('requests.get() returned an error code '+str(result.status_code))"
   ]
  },
  {
   "cell_type": "code",
   "execution_count": null,
   "metadata": {},
   "outputs": [],
   "source": [
    "import requests\n",
    "\n",
    "# Fill in your details here to be posted to the login form.\n",
    "payload = {\n",
    "    'inUserName': 'username',\n",
    "    'inUserPass': 'password'\n",
    "}\n",
    "\n",
    "# Use 'with' to ensure the session context is closed after use.\n",
    "with requests.Session() as s:\n",
    "    p = s.post('LOGIN_URL', data=payload)\n",
    "    # print the html returned or something more intelligent to see if it's a successful login page.\n",
    "    print p.text\n",
    "\n",
    "    # An authorised request.\n",
    "    r = s.get('A protected web page url')\n",
    "    print r.text\n",
    "        # etc..."
   ]
  },
  {
   "cell_type": "code",
   "execution_count": null,
   "metadata": {},
   "outputs": [],
   "source": []
  },
  {
   "cell_type": "code",
   "execution_count": 40,
   "metadata": {},
   "outputs": [
    {
     "ename": "KeyboardInterrupt",
     "evalue": "",
     "output_type": "error",
     "traceback": [
      "\u001b[0;31m---------------------------------------------------------------------------\u001b[0m",
      "\u001b[0;31mKeyboardInterrupt\u001b[0m                         Traceback (most recent call last)",
      "\u001b[0;32m<ipython-input-40-40cbeb812d87>\u001b[0m in \u001b[0;36m<module>\u001b[0;34m\u001b[0m\n\u001b[1;32m     21\u001b[0m \u001b[0;34m\u001b[0m\u001b[0m\n\u001b[1;32m     22\u001b[0m     \u001b[0;31m# play. May repeat with different volume values (if done interactively)\u001b[0m\u001b[0;34m\u001b[0m\u001b[0;34m\u001b[0m\u001b[0;34m\u001b[0m\u001b[0m\n\u001b[0;32m---> 23\u001b[0;31m     \u001b[0mstream\u001b[0m\u001b[0;34m.\u001b[0m\u001b[0mwrite\u001b[0m\u001b[0;34m(\u001b[0m\u001b[0mvolume\u001b[0m\u001b[0;34m*\u001b[0m\u001b[0msamples\u001b[0m\u001b[0;34m)\u001b[0m\u001b[0;34m\u001b[0m\u001b[0;34m\u001b[0m\u001b[0m\n\u001b[0m\u001b[1;32m     24\u001b[0m \u001b[0;34m\u001b[0m\u001b[0m\n\u001b[1;32m     25\u001b[0m \u001b[0mstream\u001b[0m\u001b[0;34m.\u001b[0m\u001b[0mstop_stream\u001b[0m\u001b[0;34m(\u001b[0m\u001b[0;34m)\u001b[0m\u001b[0;34m\u001b[0m\u001b[0;34m\u001b[0m\u001b[0m\n",
      "\u001b[0;32m/usr/local/lib/python3.7/site-packages/pyaudio.py\u001b[0m in \u001b[0;36mwrite\u001b[0;34m(self, frames, num_frames, exception_on_underflow)\u001b[0m\n\u001b[1;32m    584\u001b[0m \u001b[0;34m\u001b[0m\u001b[0m\n\u001b[1;32m    585\u001b[0m         pa.write_stream(self._stream, frames, num_frames,\n\u001b[0;32m--> 586\u001b[0;31m                         exception_on_underflow)\n\u001b[0m\u001b[1;32m    587\u001b[0m \u001b[0;34m\u001b[0m\u001b[0m\n\u001b[1;32m    588\u001b[0m \u001b[0;34m\u001b[0m\u001b[0m\n",
      "\u001b[0;31mKeyboardInterrupt\u001b[0m: "
     ]
    }
   ],
   "source": [
    "import pyaudio\n",
    "import numpy as np\n",
    "\n",
    "p = pyaudio.PyAudio()\n",
    "\n",
    "for volume in np.arange(1,2, 0.01):\n",
    "    #volume = np.0.5     # range [0.0, 1.0]\n",
    "    fs = 10100       # sampling rate, Hz, must be integer\n",
    "    duration = 2.0   # in seconds, may be float\n",
    "    f = 230.0        # sine frequency, Hz, may be float\n",
    "\n",
    "    # generate samples, note conversion to float32 array\n",
    "    samples = (np.sin(2*np.pi*np.arange(fs*duration)*f/fs)).astype(np.float32)\n",
    "\n",
    "    #samples = np.random.rand(100)\n",
    "    # for paFloat32 sample values must be in range [-1.0, 1.0]\n",
    "    stream = p.open(format=pyaudio.paFloat32,\n",
    "                    channels=1,\n",
    "                    rate=fs,\n",
    "                    output=True)\n",
    "\n",
    "    # play. May repeat with different volume values (if done interactively) \n",
    "    stream.write(volume*samples)\n",
    "\n",
    "stream.stop_stream()\n",
    "stream.close()\n",
    "\n",
    "p.terminate()"
   ]
  },
  {
   "cell_type": "code",
   "execution_count": 12,
   "metadata": {},
   "outputs": [
    {
     "data": {
      "text/plain": [
       "[<matplotlib.lines.Line2D at 0x1192c03d0>]"
      ]
     },
     "execution_count": 12,
     "metadata": {},
     "output_type": "execute_result"
    },
    {
     "data": {
      "image/png": "[encoded data removed]",
      "text/plain": [
       "<Figure size 432x288 with 1 Axes>"
      ]
     },
     "metadata": {
      "needs_background": "light"
     },
     "output_type": "display_data"
    }
   ],
   "source": [
    "plt.plot(samples, \".\")"
   ]
  },
  {
   "cell_type": "code",
   "execution_count": null,
   "metadata": {},
   "outputs": [],
   "source": []
  }
 ],
 "metadata": {
  "kernelspec": {
   "display_name": "Python 3",
   "language": "python",
   "name": "python3"
  },
  "language_info": {
   "codemirror_mode": {
    "name": "ipython",
    "version": 3
   },
   "file_extension": ".py",
   "mimetype": "text/x-python",
   "name": "python",
   "nbconvert_exporter": "python",
   "pygments_lexer": "ipython3",
   "version": "3.7.6"
  }
 },
 "nbformat": 4,
 "nbformat_minor": 2
}
