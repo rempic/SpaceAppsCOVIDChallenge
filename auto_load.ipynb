{
 "cells": [
  {
   "cell_type": "markdown",
   "metadata": {},
   "source": [
    "# \n",
    "\n",
    "Each file contains daily data from approximately 15 orbits\n",
    "\n",
    "to dowload data\n",
    "https://disc.gsfc.nasa.gov/information/howto?title=How%20to%20Download%20Data%20Files%20from%20HTTPS%20Service%20with%20wget\n"
   ]
  },
  {
   "cell_type": "markdown",
   "metadata": {},
   "source": [
    "# data"
   ]
  },
  {
   "cell_type": "code",
   "execution_count": 1,
   "metadata": {},
   "outputs": [
    {
     "name": "stdout",
     "output_type": "stream",
     "text": [
      "MERRA2_100.tavgM_2d_slv_Nx.198101.nc4\r\n",
      "MERRA2_100.tavgM_2d_slv_Nx.198101.nc4.xml\r\n",
      "MERRA2_100.tavgM_2d_slv_Nx.198102.nc4\r\n",
      "MERRA2_100.tavgM_2d_slv_Nx.198102.nc4.xml\r\n",
      "MERRA2_100.tavgM_2d_slv_Nx.198103.nc4\r\n",
      "MERRA2_100.tavgM_2d_slv_Nx.198103.nc4.xml\r\n",
      "MERRA2_100.tavgM_2d_slv_Nx.198104.nc4\r\n",
      "MERRA2_100.tavgM_2d_slv_Nx.198104.nc4.xml\r\n",
      "MERRA2_100.tavgM_2d_slv_Nx.198105.nc4\r\n",
      "MERRA2_100.tavgM_2d_slv_Nx.198105.nc4.xml\r\n",
      "MERRA2_100.tavgM_2d_slv_Nx.198106.nc4\r\n",
      "MERRA2_100.tavgM_2d_slv_Nx.198106.nc4.xml\r\n",
      "MERRA2_100.tavgM_2d_slv_Nx.198107.nc4\r\n",
      "MERRA2_100.tavgM_2d_slv_Nx.198107.nc4.xml\r\n",
      "MERRA2_100.tavgM_2d_slv_Nx.198108.nc4\r\n",
      "MERRA2_100.tavgM_2d_slv_Nx.198108.nc4.xml\r\n",
      "MERRA2_100.tavgM_2d_slv_Nx.198109.nc4\r\n",
      "MERRA2_100.tavgM_2d_slv_Nx.198109.nc4.xml\r\n",
      "MERRA2_100.tavgM_2d_slv_Nx.198110.nc4\r\n",
      "MERRA2_100.tavgM_2d_slv_Nx.198110.nc4.xml\r\n",
      "MERRA2_100.tavgM_2d_slv_Nx.198111.nc4\r\n",
      "MERRA2_100.tavgM_2d_slv_Nx.198111.nc4.xml\r\n",
      "MERRA2_100.tavgM_2d_slv_Nx.198112.nc4\r\n",
      "MERRA2_100.tavgM_2d_slv_Nx.198112.nc4.xml\r\n"
     ]
    }
   ],
   "source": [
    "#  example\n",
    "! curl -s \"https://goldsmr4.gesdisc.eosdis.nasa.gov/data/MERRA2_MONTHLY/M2TMNXSLV.5.12.4/1981/\" | grep MERRA2_100 | cut -f4 -d\\\" "
   ]
  },
  {
   "cell_type": "code",
   "execution_count": null,
   "metadata": {},
   "outputs": [],
   "source": []
  },
  {
   "cell_type": "code",
   "execution_count": 3,
   "metadata": {
    "scrolled": true
   },
   "outputs": [
    {
     "name": "stdout",
     "output_type": "stream",
     "text": [
      "OMI-Aura_L2G-OMAEROG_2020m0101_v003-2020m0102t062017.he5\n",
      "OMI-Aura_L2G-OMAEROG_2020m0101_v003-2020m0102t062017.he5.xml\n",
      "OMI-Aura_L2G-OMAEROG_2020m0102_v003-2020m0103t061640.he5\n",
      "OMI-Aura_L2G-OMAEROG_2020m0102_v003-2020m0103t061640.he5.xml\n",
      "OMI-Aura_L2G-OMAEROG_2020m0103_v003-2020m0105t061942.he5\n",
      "OMI-Aura_L2G-OMAEROG_2020m0103_v003-2020m0105t061942.he5.xml\n",
      "OMI-Aura_L2G-OMAEROG_2020m0104_v003-2020m0105t052604.he5\n",
      "OMI-Aura_L2G-OMAEROG_2020m0104_v003-2020m0105t052604.he5.xml\n",
      "OMI-Aura_L2G-OMAEROG_2020m0105_v003-2020m0106t062937.he5\n",
      "OMI-Aura_L2G-OMAEROG_2020m0105_v003-2020m0106t062937.he5.xml\n",
      "OMI-Aura_L2G-OMAEROG_2020m0106_v003-2020m0107t073751.he5\n",
      "OMI-Aura_L2G-OMAEROG_2020m0106_v003-2020m0107t073751.he5.xml\n",
      "OMI-Aura_L2G-OMAEROG_2020m0107_v003-2020m0108t053446.he5\n",
      "OMI-Aura_L2G-OMAEROG_2020m0107_v003-2020m0108t053446.he5.xml\n",
      "OMI-Aura_L2G-OMAEROG_2020m0108_v003-2020m0109t074620.he5\n",
      "OMI-Aura_L2G-OMAEROG_2020m0108_v003-2020m0109t074620.he5.xml\n",
      "OMI-Aura_L2G-OMAEROG_2020m0109_v003-2020m0110t063331.he5\n",
      "OMI-Aura_L2G-OMAEROG_2020m0109_v003-2020m0110t063331.he5.xml\n",
      "OMI-Aura_L2G-OMAEROG_2020m0110_v003-2020m0111t062125.he5\n",
      "OMI-Aura_L2G-OMAEROG_2020m0110_v003-2020m0111t062125.he5.xml\n",
      "OMI-Aura_L2G-OMAEROG_2020m0111_v003-2020m0112t053220.he5\n",
      "OMI-Aura_L2G-OMAEROG_2020m0111_v003-2020m0112t053220.he5.xml\n",
      "OMI-Aura_L2G-OMAEROG_2020m0112_v003-2020m0113t063112.he5\n",
      "OMI-Aura_L2G-OMAEROG_2020m0112_v003-2020m0113t063112.he5.xml\n",
      "OMI-Aura_L2G-OMAEROG_2020m0113_v003-2020m0114t051433.he5\n",
      "OMI-Aura_L2G-OMAEROG_2020m0113_v003-2020m0114t051433.he5.xml\n",
      "OMI-Aura_L2G-OMAEROG_2020m0114_v003-2020m0115t062153.he5\n",
      "OMI-Aura_L2G-OMAEROG_2020m0114_v003-2020m0115t062153.he5.xml\n",
      "OMI-Aura_L2G-OMAEROG_2020m0115_v003-2020m0116t071112.he5\n",
      "OMI-Aura_L2G-OMAEROG_2020m0115_v003-2020m0116t071112.he5.xml\n",
      "OMI-Aura_L2G-OMAEROG_2020m0116_v003-2020m0117t062611.he5\n",
      "OMI-Aura_L2G-OMAEROG_2020m0116_v003-2020m0117t062611.he5.xml\n",
      "OMI-Aura_L2G-OMAEROG_2020m0117_v003-2020m0118t063616.he5\n",
      "OMI-Aura_L2G-OMAEROG_2020m0117_v003-2020m0118t063616.he5.xml\n",
      "OMI-Aura_L2G-OMAEROG_2020m0118_v003-2020m0119t061815.he5\n",
      "OMI-Aura_L2G-OMAEROG_2020m0118_v003-2020m0119t061815.he5.xml\n",
      "OMI-Aura_L2G-OMAEROG_2020m0119_v003-2020m0120t062530.he5\n",
      "OMI-Aura_L2G-OMAEROG_2020m0119_v003-2020m0120t062530.he5.xml\n",
      "OMI-Aura_L2G-OMAEROG_2020m0120_v003-2020m0121t052323.he5\n",
      "OMI-Aura_L2G-OMAEROG_2020m0120_v003-2020m0121t052323.he5.xml\n",
      "OMI-Aura_L2G-OMAEROG_2020m0121_v003-2020m0122t061208.he5\n",
      "OMI-Aura_L2G-OMAEROG_2020m0121_v003-2020m0122t061208.he5.xml\n",
      "OMI-Aura_L2G-OMAEROG_2020m0122_v003-2020m0123t081938.he5\n",
      "OMI-Aura_L2G-OMAEROG_2020m0122_v003-2020m0123t081938.he5.xml\n",
      "OMI-Aura_L2G-OMAEROG_2020m0123_v003-2020m0124t061626.he5\n",
      "OMI-Aura_L2G-OMAEROG_2020m0123_v003-2020m0124t061626.he5.xml\n",
      "OMI-Aura_L2G-OMAEROG_2020m0124_v003-2020m0125t061507.he5\n",
      "OMI-Aura_L2G-OMAEROG_2020m0124_v003-2020m0125t061507.he5.xml\n",
      "OMI-Aura_L2G-OMAEROG_2020m0125_v003-2020m0126t061215.he5\n",
      "OMI-Aura_L2G-OMAEROG_2020m0125_v003-2020m0126t061215.he5.xml\n",
      "OMI-Aura_L2G-OMAEROG_2020m0126_v003-2020m0127t072020.he5\n",
      "OMI-Aura_L2G-OMAEROG_2020m0126_v003-2020m0127t072020.he5.xml\n",
      "OMI-Aura_L2G-OMAEROG_2020m0127_v003-2020m0128t061305.he5\n",
      "OMI-Aura_L2G-OMAEROG_2020m0127_v003-2020m0128t061305.he5.xml\n",
      "OMI-Aura_L2G-OMAEROG_2020m0128_v003-2020m0129t062256.he5\n",
      "OMI-Aura_L2G-OMAEROG_2020m0128_v003-2020m0129t062256.he5.xml\n",
      "OMI-Aura_L2G-OMAEROG_2020m0129_v003-2020m0130t051745.he5\n",
      "OMI-Aura_L2G-OMAEROG_2020m0129_v003-2020m0130t051745.he5.xml\n",
      "OMI-Aura_L2G-OMAEROG_2020m0130_v003-2020m0131t072102.he5\n",
      "OMI-Aura_L2G-OMAEROG_2020m0130_v003-2020m0131t072102.he5.xml\n",
      "OMI-Aura_L2G-OMAEROG_2020m0131_v003-2020m0201t071739.he5\n",
      "OMI-Aura_L2G-OMAEROG_2020m0131_v003-2020m0201t071739.he5.xml\n"
     ]
    }
   ],
   "source": [
    "# 2020 january\n",
    "! wget -q -nH -nd 'https://acdisc.gsfc.nasa.gov/data/Aura_OMI_Level2G/OMAEROG.003/2020' -O - | grep 2020m01 | cut -f4 -d\\\""
   ]
  },
  {
   "cell_type": "code",
   "execution_count": null,
   "metadata": {},
   "outputs": [],
   "source": [
    "https://acdisc.gsfc.nasa.gov/data/Aura_OMI_Level2G/OMAEROG.003/2020/OMI-Aura_L2G-OMAEROG_2020m0101_v003-2020m0102t062017.he"
   ]
  },
  {
   "cell_type": "code",
   "execution_count": 5,
   "metadata": {},
   "outputs": [
    {
     "name": "stdout",
     "output_type": "stream",
     "text": [
      "--2020-05-30 22:25:29--  https://acdisc.gsfc.nasa.gov/data/Aura_OMI_Level2G/OMAEROG.003/2020/OMI-Aura_L2G-OMAEROG_2020m0101_v003-2020m0102t062017.he5\n",
      "Resolving acdisc.gsfc.nasa.gov (acdisc.gsfc.nasa.gov)... 198.118.197.85\n",
      "Connecting to acdisc.gsfc.nasa.gov (acdisc.gsfc.nasa.gov)|198.118.197.85|:443... connected.\n",
      "HTTP request sent, awaiting response... 302 Found\n",
      "Location: https://urs.earthdata.nasa.gov/oauth/authorize/?scope=uid&app_type=401&client_id=e2WVk8Pw6weeLUKZYOxvTQ&response_type=code&redirect_uri=https%3A%2F%2Facdisc.gesdisc.eosdis.nasa.gov%2Fdata-redirect&state=aHR0cHM6Ly9hY2Rpc2MuZ3NmYy5uYXNhLmdvdi9kYXRhL0F1cmFfT01JX0xldmVsMkcvT01BRVJPRy4wMDMvMjAyMC9PTUktQXVyYV9MMkctT01BRVJPR18yMDIwbTAxMDFfdjAwMy0yMDIwbTAxMDJ0MDYyMDE3LmhlNQ [following]\n",
      "--2020-05-30 22:25:29--  https://urs.earthdata.nasa.gov/oauth/authorize/?scope=uid&app_type=401&client_id=e2WVk8Pw6weeLUKZYOxvTQ&response_type=code&redirect_uri=https%3A%2F%2Facdisc.gesdisc.eosdis.nasa.gov%2Fdata-redirect&state=aHR0cHM6Ly9hY2Rpc2MuZ3NmYy5uYXNhLmdvdi9kYXRhL0F1cmFfT01JX0xldmVsMkcvT01BRVJPRy4wMDMvMjAyMC9PTUktQXVyYV9MMkctT01BRVJPR18yMDIwbTAxMDFfdjAwMy0yMDIwbTAxMDJ0MDYyMDE3LmhlNQ\n",
      "Resolving urs.earthdata.nasa.gov (urs.earthdata.nasa.gov)... 198.118.243.33\n",
      "Connecting to urs.earthdata.nasa.gov (urs.earthdata.nasa.gov)|198.118.243.33|:443... connected.\n",
      "HTTP request sent, awaiting response... 401 Unauthorized\n",
      "Authentication selected: Basic realm=\"Please enter your Earthdata Login credentials. If you do not have a Earthdata Login, create one at https://urs.earthdata.nasa.gov//users/new\"\n",
      "Reusing existing connection to urs.earthdata.nasa.gov:443.\n",
      "HTTP request sent, awaiting response... 401 Unauthorized\n",
      "\n",
      "Username/Password Authentication Failed.\n"
     ]
    }
   ],
   "source": [
    "# download data\n",
    "! wget --load-cookies ~/.urs_cookies --save-cookies ~/.urs_cookies --keep-session-cookies --content-disposition https://acdisc.gsfc.nasa.gov/data/Aura_OMI_Level2G/OMAEROG.003/2020/OMI-Aura_L2G-OMAEROG_2020m0101_v003-2020m0102t062017.he5\n",
    " "
   ]
  },
  {
   "cell_type": "code",
   "execution_count": 3,
   "metadata": {},
   "outputs": [
    {
     "name": "stdout",
     "output_type": "stream",
     "text": [
      "  % Total    % Received % Xferd  Average Speed   Time    Time     Time  Current\n",
      "                                 Dload  Upload   Total   Spent    Left  Speed\n",
      "  0   573    0     0    0     0      0      0 --:--:-- --:--:-- --:--:--     0\n",
      "100    27    0    27    0     0     60      0 --:--:-- --:--:-- --:--:--    60\n"
     ]
    }
   ],
   "source": [
    "! curl -n -c ~/.urs_cookies -b ~/.urs_cookies -LJO --url https://acdisc.gsfc.nasa.gov/data/Aura_OMI_Level2G/OMAEROG.003/2020/OMI-Aura_L2G-OMAEROG_2020m0102_v003-2020m0103t061640.he5\n",
    "    "
   ]
  },
  {
   "cell_type": "code",
   "execution_count": 4,
   "metadata": {},
   "outputs": [
    {
     "name": "stdout",
     "output_type": "stream",
     "text": [
      "--2020-05-30 20:35:20--  https://goldsmr4.gesdisc.eosdis.nasa.gov/data/MERRA2_MONTHLY/M2TMNXSLV.5.12.4/1981/MERRA2_100.tavgM_2d_slv_Nx.198101.nc4\n",
      "Resolving goldsmr4.gesdisc.eosdis.nasa.gov (goldsmr4.gesdisc.eosdis.nasa.gov)... 198.118.197.95\n",
      "Connecting to goldsmr4.gesdisc.eosdis.nasa.gov (goldsmr4.gesdisc.eosdis.nasa.gov)|198.118.197.95|:443... connected.\n",
      "HTTP request sent, awaiting response... 302 Found\n",
      "Location: https://urs.earthdata.nasa.gov/oauth/authorize/?scope=uid&app_type=401&client_id=e2WVk8Pw6weeLUKZYOxvTQ&response_type=code&redirect_uri=https%3A%2F%2Fgoldsmr4.gesdisc.eosdis.nasa.gov%2Fdata-redirect&state=aHR0cHM6Ly9nb2xkc21yNC5nZXNkaXNjLmVvc2Rpcy5uYXNhLmdvdi9kYXRhL01FUlJBMl9NT05USExZL00yVE1OWFNMVi41LjEyLjQvMTk4MS9NRVJSQTJfMTAwLnRhdmdNXzJkX3Nsdl9OeC4xOTgxMDEubmM0 [following]\n",
      "--2020-05-30 20:35:20--  https://urs.earthdata.nasa.gov/oauth/authorize/?scope=uid&app_type=401&client_id=e2WVk8Pw6weeLUKZYOxvTQ&response_type=code&redirect_uri=https%3A%2F%2Fgoldsmr4.gesdisc.eosdis.nasa.gov%2Fdata-redirect&state=aHR0cHM6Ly9nb2xkc21yNC5nZXNkaXNjLmVvc2Rpcy5uYXNhLmdvdi9kYXRhL01FUlJBMl9NT05USExZL00yVE1OWFNMVi41LjEyLjQvMTk4MS9NRVJSQTJfMTAwLnRhdmdNXzJkX3Nsdl9OeC4xOTgxMDEubmM0\n",
      "Resolving urs.earthdata.nasa.gov (urs.earthdata.nasa.gov)... 198.118.243.33\n",
      "Connecting to urs.earthdata.nasa.gov (urs.earthdata.nasa.gov)|198.118.243.33|:443... connected.\n",
      "HTTP request sent, awaiting response... 401 Unauthorized\n",
      "\n",
      "Username/Password Authentication Failed.\n"
     ]
    }
   ],
   "source": [
    "! wget --load-cookies ~/.urs_cookies --save-cookies ~/.urs_cookies --keep-session-cookies --content-disposition https://goldsmr4.gesdisc.eosdis.nasa.gov/data/MERRA2_MONTHLY/M2TMNXSLV.5.12.4/1981/MERRA2_100.tavgM_2d_slv_Nx.198101.nc4\n",
    "\n"
   ]
  },
  {
   "cell_type": "code",
   "execution_count": null,
   "metadata": {},
   "outputs": [],
   "source": []
  }
 ],
 "metadata": {
  "kernelspec": {
   "display_name": "Python 3",
   "language": "python",
   "name": "python3"
  },
  "language_info": {
   "codemirror_mode": {
    "name": "ipython",
    "version": 3
   },
   "file_extension": ".py",
   "mimetype": "text/x-python",
   "name": "python",
   "nbconvert_exporter": "python",
   "pygments_lexer": "ipython3",
   "version": "3.7.6"
  }
 },
 "nbformat": 4,
 "nbformat_minor": 2
}
